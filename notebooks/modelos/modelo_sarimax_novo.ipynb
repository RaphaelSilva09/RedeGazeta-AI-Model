{
  "cells": [
    {
      "cell_type": "markdown",
      "metadata": {
        "id": "la093BlNifGq"
      },
      "source": [
        "# Modelo Preditivo: SARIMAX (Novos dados)\n",
        "\n",
        "O modelo SARIMAX (Seasonal Autoregressive Integrated Moving Average with eXogenous factors) é uma extensão do modelo ARIMA que inclui componentes sazonais e a capacidade de incluir variáveis exógenas. Ele é utilizado para previsão de séries temporais, permitindo capturar padrões sazonais e tendências.\n",
        "\n"
      ]
    },
    {
      "cell_type": "markdown",
      "metadata": {
        "id": "BxV6v4iDVfNc"
      },
      "source": [
        "## Instruções para uso local ou remoto (Google Colab ou VScode)"
      ]
    },
    {
      "cell_type": "markdown",
      "metadata": {
        "id": "JnDFwy-CVlrz"
      },
      "source": [
        "Aqui deixaremos brevemente um passo a passo para que você usuário seja capaz de executar o código localmente ou remotamente pelo seu google drive, podendo escolher a forma mais viável para seu uso e conhecimento."
      ]
    },
    {
      "cell_type": "markdown",
      "metadata": {
        "id": "OCuwp0NxVorQ"
      },
      "source": [
        "**Google Colab**\n",
        "\n",
        "1. Faça o upload do seu arquivo .ipynb para o Google 1.Drive.\n",
        "2. Abra o Google Colab em seu navegador.\n",
        "3. Clique em \"Arquivo\" no menu superior e selecione \"Abrir notebook\".\n",
        "4. Na guia \"Upload\", clique em \"Procurar\" e selecione o arquivo .ipynb que você enviou para o Google Drive.\n",
        "5. Após selecionar o arquivo, clique em \"Abrir\".\n",
        "6. Aguarde o carregamento do notebook no Google Colab.\n",
        "7. Agora que você carregou o notebook no Google Colab, você pode fazer as alterações necessárias nos arquivos e caminhos para se adequar ao seu ambiente específico.\n",
        "\n",
        "No notebook, a célula seguinte à essa contém as leituras dos arquivos CSV com o caminho do drive do criador desse notebook. Comente as linhas que fazem referência aos arquivos locais e descomente as linhas que fazem referência ao Google Drive. Por exemplo:\n",
        "\n",
        "* Descomente as linhas que começam com # from google.colab import drive;\n",
        "* Comente as linhas que começam com tabela_Meta = pd.read_csv(\"./data/Cópia de BASE INTELI_META_OCUP-limpo.csv\").\n",
        "\n",
        "Certifique-se de que os arquivos CSV estejam localizados no diretório correto em seu ambiente virtual. Por exemplo, se você tiver uma pasta chamada \"data\" no mesmo diretório do notebook, coloque os arquivos CSV nessa pasta e ajuste seus nomes. Possivelmente os arquivos vão seguir o seguinte padrão, mesmo no seu drive:\n",
        "\n",
        "tabela_Meta = pd.read_csv(\"/content/drive/MyDrive/NomeDaPastaDosArquivos/arquivo.csv)\n",
        "\n",
        "Salve as alterações no notebook. Agora você pode executar as células do notebook no Google Colab e as alterações nos arquivos e caminhos serão aplicadas ao seu ambiente do colab. Lembre-se de que você não precisará ter as bibliotecas necessárias instaladas em seu ambiente local para executar o código corretamente, dado que ao executar pela ferramenta do google essas dependências estarão aplicadas por padrão"
      ]
    },
    {
      "cell_type": "markdown",
      "metadata": {
        "id": "Plpu6F1AWPQE"
      },
      "source": [
        "**VScode**\n",
        "\n",
        "1. Coloque os arquivos CSV dentro da pasta \"data\" desse notebook\n",
        "\n",
        "No notebook, a célula seguinte à essa contém as leituras dos arquivos CSV com o caminho do drive do criador desse notebook. Comente as linhas que fazem referência aos arquivos locais e descomente as linhas que fazem referência ao Google Drive. Por exemplo:\n",
        "\n",
        "* Descomente as linhas que começam com # from google.colab import drive;\n",
        "* Comente as linhas que começam com tabela_Meta = pd.read_csv(\"./data/Cópia de BASE INTELI_META_OCUP-limpo.csv\").\n",
        "\n",
        "Certifique-se de que os arquivos CSV estejam localizados no diretório correto em seu ambiente virtual. Por exemplo, se você tiver uma pasta chamada \"data\" no mesmo diretório do notebook, coloque os arquivos CSV nessa pasta e ajuste seus nomes. Possivelmente os arquivos vão seguir o seguinte padrão, mesmo no seu drive:\n",
        "\n",
        "tabela_Meta = pd.read_csv(\"./data/Cópia de BASE INTELI_META_OCUP-limpo.csv\")\n",
        "\n",
        "Salve as alterações no notebook. Agora você pode executar as células do notebook no VScode e as alterações nos arquivos e caminhos serão aplicadas ao seu ambiente do colab. Lembre-se de que você precisará ter as bibliotecas necessárias instaladas em seu ambiente local para executar o código corretamente:\n",
        "\n",
        "Para fazer a instalação, basta abrir o terminal integrado e inserir o seguinte:"
      ]
    },
    {
      "cell_type": "code",
      "execution_count": 57,
      "metadata": {
        "id": "pXjn5cDVWjBs"
      },
      "outputs": [],
      "source": [
        "# pip install pandas numpy matplotlib scikit-learn pmdarima"
      ]
    },
    {
      "cell_type": "markdown",
      "metadata": {
        "id": "9wgiFhKXi3wi"
      },
      "source": [
        "## Execução do Modelo"
      ]
    },
    {
      "cell_type": "markdown",
      "metadata": {
        "id": "d8Rl6WlvH-1G"
      },
      "source": [
        "Aqui, importamos as bibliotecas necessárias. O SARIMAX é importado da biblioteca statsmodels, que é usada para modelagem estatística."
      ]
    },
    {
      "cell_type": "code",
      "execution_count": 58,
      "metadata": {
        "id": "is2e9fcW_4rV"
      },
      "outputs": [],
      "source": [
        "import numpy as np\n",
        "import pandas as pd\n",
        "import matplotlib.pyplot as plt\n",
        "from statsmodels.tsa.statespace.sarimax import SARIMAX\n",
        "import statsmodels.api as sm\n",
        "from copy import deepcopy\n",
        "import pmdarima as pm\n",
        "from pmdarima import auto_arima\n",
        "from sklearn.preprocessing import LabelEncoder\n",
        "from sklearn.metrics import mean_absolute_error\n",
        "from sklearn.metrics import mean_absolute_percentage_error\n",
        "from sklearn.metrics import mean_squared_error\n",
        "from sklearn.metrics import r2_score"
      ]
    },
    {
      "cell_type": "markdown",
      "metadata": {
        "id": "o4oYpFy3iuu1"
      },
      "source": [
        "Abaixo, usei os arquivos na pasta \"data\" com os nomes descritos, mas lembre-se de mudar conforme necessecidade;\n"
      ]
    },
    {
      "cell_type": "code",
      "execution_count": null,
      "metadata": {
        "id": "O7EraRCcWz65"
      },
      "outputs": [],
      "source": [
        "# # pegando arquivos csv do drive\n",
        "# from google.colab import drive\n",
        "# drive.mount('/content/drive')\n",
        "\n",
        "# # Lendo os arquivos CSV\n",
        "# tabela_Meta = pd.read_csv(\"/content/drive/MyDrive/Primeiro Ano/Módulo 3 - Modelo Preditivo Gazeta/Base de Dados Limpas/BASE INTELI_META-limpo.csv\")\n",
        "# tabela_Agosto = pd.read_csv(\"/content/drive/MyDrive/Primeiro Ano/Módulo 3 - Modelo Preditivo Gazeta/Base de Dados Limpas/tratada_BaseDados_ProjetoINTELI_RG_01_AGOSTO_2024.csv\")\n",
        "\n",
        "# para realizar o processo localmente, descomente as linhas abaixo e comente as linhas acima.\n",
        "tabela_Meta = pd.read_csv(\"../data/dados_tratados/BASE INTELI_META-limpo.csv\")\n",
        "tabela_Agosto = pd.read_csv(\"../data/dados_tratados/tratada_BaseDados_ProjetoINTELI_RG_01_AGOSTO_2024.csv\")\n",
        "df_dig = pd.read_csv('../data/dados_tratados/BancoReceitas_Out2024_limpa_DIG.csv')\n",
        "df_rd = pd.read_csv('../data/dados_tratados/BancoReceitas_Out2024_limpa_RD.csv')\n",
        "df_tv = pd.read_csv('../data/dados_tratados/BancoReceitas_Out2024_limpa_TV.csv')\n",
        "\n",
        "df_dig = df_dig.drop('index', axis=1)\n",
        "df_rd = df_rd.drop('index', axis=1)\n",
        "df_tv = df_tv.drop('index', axis=1)\n",
        "\n",
        "# Combina os três dataframes em um só\n",
        "df_combined = pd.concat([df_dig, df_rd, df_tv], ignore_index=True)\n",
        "print(df_dig)"
      ]
    },
    {
      "cell_type": "markdown",
      "metadata": {
        "id": "3iMnus9HjJ01"
      },
      "source": [
        "O formato de exibição das tabelas é definida e padronizada, transformando as colunas de \"Mês\" e \"Ano\" em strings para sua concatenação em uma segunda coluna \"Sazonalidade\", que segue o formato datetime da biblioteca Pandas e as demais colunas em numéricas."
      ]
    },
    {
      "cell_type": "code",
      "execution_count": null,
      "metadata": {
        "id": "BMmn5dpqjSsx"
      },
      "outputs": [],
      "source": [
        "import pandas as pd\n",
        "\n",
        "# Configura o formato de exibição para floats\n",
        "pd.set_option('display.float_format', '{:.0f}'.format)\n",
        "\n",
        "# Função para limpar e converter valores\n",
        "def clean_value(value):\n",
        "    try:\n",
        "        return str(int(float(value)))  # Remove decimais e converte para string\n",
        "    except ValueError:\n",
        "        return None  # Retorna None se não puder converter\n",
        "\n",
        "# Combina os três dataframes em um só\n",
        "df_combined = pd.concat([df_dig, df_rd, df_tv], ignore_index=True)\n",
        "df_combined = df_combined.drop('Unnamed: 0', axis=1)\n",
        "\n",
        "# Para df_dig\n",
        "df_combined['Ano'] = df_combined['Ano'].apply(clean_value)\n",
        "df_combined['Mês'] = df_combined['Mês'].apply(clean_value)\n",
        "df_combined = df_combined.dropna(subset=['Ano', 'Mês'])  # Remove linhas com valores inválidos\n",
        "df_combined['Sazonalidade'] = pd.to_datetime(df_combined['Ano'] + '-' + df_combined['Mês'], format='%Y-%m', errors='coerce')\n",
        "\n",
        "print(df_combined.head())"
      ]
    },
    {
      "cell_type": "markdown",
      "metadata": {
        "id": "J6IFPzzQjg7u"
      },
      "source": [
        "Nesse bloco é realizada a limpeza da tabela, utilizando apenas as colunas \"Sazonalidade\", \"Ano\", \"Mês\" e \"Vl Liquido Final\", referentes à série temporal dos valores líquidos mensais. Os meses são mantidos para estabelecer um controle da sazonalidade momentaneamente na análise do código.\n",
        "<br>\n",
        "<br>\n",
        "Também é agrupado os valores de \"Vl Liquido Final\" que possuem a mesma sazonalidade (mês-ano semelhantes), cumprindo com uma das requisições do SARIMAX de não duplicar séries temporais. Dessa forma, é calculado o valor líquido total de todos os veículos e segmentos em cada mês.\n"
      ]
    },
    {
      "cell_type": "code",
      "execution_count": null,
      "metadata": {
        "id": "w60RX70ajlHy"
      },
      "outputs": [],
      "source": [
        "# Remove possíveis caracteres indesejados e converte a coluna para numérico\n",
        "df_combined['Vl Liquido Final'] = pd.to_numeric(df_combined['Vl Liquido Final'].replace('[^0-9.]', '', regex=True), errors='coerce')\n",
        "\n",
        "# Reagrupa os dados e realiza a soma correta\n",
        "df_combined = df_combined.groupby(['Sazonalidade', 'Ano', 'Mês']).agg({\n",
        "    'Vl Liquido Final': 'sum'\n",
        "}).reset_index()\n",
        "\n",
        "# Mostra as primeiras linhas do dataframe resultante\n",
        "print(df_combined.head(20))"
      ]
    },
    {
      "cell_type": "markdown",
      "metadata": {
        "id": "mDTqLiYlB_JZ"
      },
      "source": [
        "O gráfico abaixo ilustra a série temporal seguida pelo valor líquido final das receitas, o que possibilita a visualização dos padrões e possíveis _outliers_ que possam interferir no modelo.\n",
        "<br>\n",
        "<br>\n",
        "Apesar de serem observados valores com varianças notáveis, não é favorável a remoção desses dados, uma vez que o _dataset_ é naturalmente pequeno e esses dados discrepantes são necessários para entender tendências ao longo do ano."
      ]
    },
    {
      "cell_type": "code",
      "execution_count": null,
      "metadata": {
        "colab": {
          "base_uri": "https://localhost:8080/",
          "height": 445
        },
        "id": "YR2uDfYOc2y3",
        "outputId": "dddb5045-02a5-47d1-f3fe-fbe88cdfed2a"
      },
      "outputs": [],
      "source": [
        "serie_temporal = df_combined['Vl Liquido Final']\n",
        "serie_temporal.plot()\n",
        "plt.show()"
      ]
    },
    {
      "cell_type": "markdown",
      "metadata": {
        "id": "m2_zN92XC2Ls"
      },
      "source": [
        "É criado um _dataframe_ chamado resultado que utiliza apenas os dados de resultado e sazonalidade, _features_ que serão utilizadas na criação do modelo."
      ]
    },
    {
      "cell_type": "code",
      "execution_count": 63,
      "metadata": {
        "id": "G2mm13EQV8wo"
      },
      "outputs": [],
      "source": [
        "resultado = df_combined.groupby('Sazonalidade')['Vl Liquido Final'].sum().reset_index()"
      ]
    },
    {
      "cell_type": "markdown",
      "metadata": {
        "id": "dcaqrTUODbje"
      },
      "source": [
        "A partir do _dataframe_ resultado é calculado o tamanho dos _datasets_ de treinamento e teste, que serão utilizados para entender futuramente a acurácia do modelo. O valor 78% foi escolhido para garantir 12 dados a serem utilizados como teste do modelo, ou seja, um período de um ano."
      ]
    },
    {
      "cell_type": "code",
      "execution_count": 64,
      "metadata": {
        "id": "XhBp9mRDMBfZ"
      },
      "outputs": [],
      "source": [
        "tamanho_treino = int(len(resultado) * 0.78)\n",
        "treino = resultado.iloc[:tamanho_treino]\n",
        "teste = resultado.iloc[tamanho_treino:]"
      ]
    },
    {
      "cell_type": "markdown",
      "metadata": {
        "id": "ReXke4uKFOrO"
      },
      "source": [
        "O *auto_arima* é uma abordagem automatizada para selecionar os melhores parâmetros de um modelo ARIMA. Ele considera os seguintes parâmetros na sua avaliação:\n",
        "\n",
        "* Termos autorregressivos (p);\n",
        "* Número de diferenciações (d);\n",
        "* Número de termos de média móvel (q);\n",
        "* Número de termos autorregressivos sazonais (P);\n",
        "* Número de diferenciações sazonais (D);\n",
        "* Número de termos de média móvel sazonais (Q);\n",
        "* Periodicidade sazonal;\n",
        "\n",
        "O *auto_arima* calculou que o melhor modelo ARIMA para as _features_ selecionadas é o ARIMA(2,0,2)(0,1,1)[12], que considera respectivamente cada um dos parâmetros acima."
      ]
    },
    {
      "cell_type": "code",
      "execution_count": null,
      "metadata": {
        "colab": {
          "base_uri": "https://localhost:8080/"
        },
        "id": "o5ZXTS-eVbom",
        "outputId": "432691b2-4745-41b8-f206-31dae8e3e9f1"
      },
      "outputs": [],
      "source": [
        "auto_model = auto_arima(treino['Vl Liquido Final'], seasonal=True, m=12, trace=True)"
      ]
    },
    {
      "cell_type": "markdown",
      "metadata": {
        "id": "Tux3wRhNG-qj"
      },
      "source": [
        "É então utilizado o modelo ARIMA(2,0,2)(0,1,1)[12] para calcular a previsão dos valores líquidos pelos próximos 12 meses."
      ]
    },
    {
      "cell_type": "code",
      "execution_count": 66,
      "metadata": {
        "id": "IEdyOmbuNRHP"
      },
      "outputs": [],
      "source": [
        "forecast = auto_model.predict(n_periods=12)"
      ]
    },
    {
      "cell_type": "markdown",
      "metadata": {
        "id": "rIvQr-KoHpLH"
      },
      "source": [
        "O modelo passa a funcionar, armazenando os dados obtidos com as previsões do ARIMA na coluna 'previsao' durante um período de 12 meses, um ano, que serão comparados posteriormente aos dados de teste."
      ]
    },
    {
      "cell_type": "code",
      "execution_count": null,
      "metadata": {
        "id": "I-BDS24JNklf"
      },
      "outputs": [],
      "source": [
        "forecast_df = pd.DataFrame(\n",
        "      {'Sazonalidade': pd.date_range(start=treino['Sazonalidade'].iloc[-1], periods=13, freq='M')[1:],\n",
        "       'previsao':     forecast}\n",
        ")"
      ]
    },
    {
      "cell_type": "markdown",
      "metadata": {
        "id": "EWPRfeRsJdGn"
      },
      "source": [
        "É criado o gráfico \"Previsão da receita líquida da Rede Gazeta\", que considera os dados de treinamento, coloridos em laranja, os dados de teste, coloridos em azul, e as previsões obtidas pelo modelo ARIMA, coloridos em verde.\n",
        "<br>\n",
        "<br>\n",
        "Essa representação visual facilita o entendimento das estimativas do modelo, comparando os valores dados e os valores criados para os últimos 12 meses."
      ]
    },
    {
      "cell_type": "code",
      "execution_count": null,
      "metadata": {
        "colab": {
          "base_uri": "https://localhost:8080/",
          "height": 545
        },
        "id": "R-7CwimsTK6x",
        "outputId": "c8d7c4e8-1c69-444c-f5f4-76098d8bf061"
      },
      "outputs": [],
      "source": [
        "# Garantir que estamos apenas pegando os primeiros 12 valores de 'Sazonalidade' para corresponder com a previsão\n",
        "sazonalidade_teste = teste['Sazonalidade'][:len(forecast_df)]\n",
        "\n",
        "plt.figure(figsize=(10,6))\n",
        "plt.plot(treino['Sazonalidade'], treino['Vl Liquido Final'], label='Dados de treinamento', color='orange')\n",
        "plt.plot(teste['Sazonalidade'], teste['Vl Liquido Final'], label='Dados de teste', color='blue')\n",
        "plt.plot(sazonalidade_teste, forecast_df['previsao'], label='Previsão', color='green')\n",
        "\n",
        "plt.title('Previsão da receita líquida da Rede Gazeta')\n",
        "plt.legend()\n",
        "plt.show()"
      ]
    },
    {
      "cell_type": "markdown",
      "metadata": {
        "id": "Y6ERB5pSLWDA"
      },
      "source": [
        "Como forma de testar a confiabilidade do modelo, são utilizados parâmetros de acurácia, dessa forma, observa-se:\n",
        "<br>\n",
        "<br>\n",
        "R² (Coeficiente de Determinação): Métrica que calcula o quanto das variações dos dados é captada pelo modelo. Nesse dado, quanto maior o valor obtido, melhor o entendimento da variabilidade.\n",
        "<br>\n",
        "<br>\n",
        "MSE (Erro Quadrático Médio): Calcula a média de diferença entre o valor sintético e o real, por ser elevada ao quadrado, essa métrica tende a penalizar _outliers_, revelando um valor naturalmente alto. Quanto menor o grau de erro, melhores são as previsões do modelo.\n",
        "<br>\n",
        "<br>\n",
        "MAE (Erro Médio Absoluto): Calcula a média absoluta da diferença entre os valores previstos pelo modelo e os valores dados. Essa métrica não é influenciada pela presença de _outliers_ e revela numéricamente a diferença média dos dados. Quanto menor seu grau, mais confiáveis são as previsões.\n",
        "<br>\n",
        "<br>\n",
        "MAPE (Erro Percentual Absoluto Médio): Essa métrica calcula percentualmente a diferença entre os valores previstos e os valores reais. A variança percentual pode ser tanto positiva quanto negativa. Quanto menor seu grau, melhores são as previsões."
      ]
    },
    {
      "cell_type": "code",
      "execution_count": null,
      "metadata": {
        "colab": {
          "base_uri": "https://localhost:8080/"
        },
        "id": "J_67nYipYiGi",
        "outputId": "462a6392-f3db-430a-f646-9ef2b9b730ec"
      },
      "outputs": [],
      "source": [
        "forecast = auto_model.predict(n_periods=len(teste))\n",
        "\n",
        "forecast_df = pd.DataFrame(\n",
        "      {'Sazonalidade': teste['Sazonalidade'],\n",
        "       'previsao': forecast})\n",
        "\n",
        "teste = teste.merge(forecast_df, on='Sazonalidade')\n",
        "y_true = teste['Vl Liquido Final']\n",
        "y_pred = teste['previsao']\n",
        "\n",
        "r2 = r2_score(y_true, y_pred)\n",
        "mse = mean_squared_error(y_true, y_pred)\n",
        "mae = mean_absolute_error(y_true, y_pred)\n",
        "mape = (abs((y_true - y_pred) / y_true).mean()) * 100\n",
        "\n",
        "print(f'R²: {r2:.2f}')\n",
        "print(f'MSE: {mse:.2f}')\n",
        "print(f'MAE: {mae:.2f}')\n",
        "print(f'MAPE: {mape:.2f}%')"
      ]
    },
    {
      "cell_type": "markdown",
      "metadata": {
        "id": "LI5H-gMMOhBC"
      },
      "source": [
        "Os valores obtidos das métricas são relevantes para a utilização futura do modelo, uma vez que indicam o que deve ser levado em consideração na hora de interpretar seus resultados.\n",
        "<br>\n",
        "<br>\n",
        "Coeficiente de Determinação: Obtendo um valor de 0,65 é possível afirmar que 65% das variações dos dados são capturadas pelo modelo. Esse resultado desempenha um nível razoável, que pode ser melhorado com a utilização de mais dados para treinamento.\n",
        "<br>\n",
        "<br>\n",
        "Erro Médio Quadrático: Com um valor de 1.231.392.478.829,90 nota-se que existe uma diferença considerável dos dados previstos e dos dados reais. Tirando sua raíz quadrada, obtêm-se que, ao analisar os dados obtidos pelo modelo, deve ser considerada uma margem de erro de 1.109.681 para mais ou para menos.\n",
        "<br>\n",
        "<br>\n",
        "Erro Médio Absoluto: O valor de 836.222,45 indica que o modelo erra os números reais e preditos em média por 836 mil reais aproximadamente. Apesar dos dados serem razoáveis para a escala apresentada pela Rede Gazeta, é observada uma necessidade de melhoria nessa métrica.\n",
        "<br>\n",
        "<br>\n",
        "Erro Percentual Absoluto Médio: Com 10,13% de erro, o modelo está errando suas previsões em cerca de 10% em relação aos valores reais, isso significa que os valores previstos podem ser maiores ou menores que os reais. O MAPE é considerado bom nesse nível, no entanto, pode ser melhorado com a utilização de mais hiperparâmetros."
      ]
    },
    {
      "cell_type": "markdown",
      "metadata": {
        "id": "rmzfqnP4STmn"
      },
      "source": [
        "Por fim, é feito o gráfico de resíduos do modelo, ou seja, a diferença prática entre os valores reais e previstos (valores teste - valores de previsão). Os dados obtidos indicam uma grande variação entre os números, o que pode indicar uma tendência sazonal na série temporal. Além disso, é observada a presença de _outliers_, como os valores -1.679.975 e 10.326.114, que podem influenciar na confiabilidade do modelo."
      ]
    },
    {
      "cell_type": "code",
      "execution_count": null,
      "metadata": {
        "colab": {
          "base_uri": "https://localhost:8080/",
          "height": 860
        },
        "id": "RH8To-078i85",
        "outputId": "8b099348-3488-43e5-fc56-95975f210ef4"
      },
      "outputs": [],
      "source": [
        "model = SARIMAX(treino['Vl Liquido Final'], order=(2, 0, 2), seasonal_order=(0, 1, 1, 12))\n",
        "results = model.fit()\n",
        "\n",
        "fitted_values = results.fittedvalues\n",
        "\n",
        "residuos = treino['Vl Liquido Final'] - fitted_values\n",
        "\n",
        "plt.figure(figsize=(10,6))\n",
        "plt.plot(residuos)\n",
        "plt.title('Resíduos do modelo SARIMAX')\n",
        "plt.axhline(0, linestyle='--', color='red')\n",
        "plt.show()\n",
        "\n",
        "print(residuos.describe())"
      ]
    },
    {
      "cell_type": "markdown",
      "metadata": {
        "id": "e56sea3qUcy6"
      },
      "source": [
        "Em conclusão, nota-se que o SARIMAX não é a melhor escolha para um _dataset_ pequeno, uma vez que as tendências sazonais podem ser melhor explicadas com espaços de tempo maiores e mais homogêneos. Apesar das métricas razoáveis, é necessária a análise de outros modelos preditivos, priorizando a qualidade das previsões e sua confiabilidade."
      ]
    }
  ],
  "metadata": {
    "colab": {
      "provenance": []
    },
    "kernelspec": {
      "display_name": "Python 3",
      "name": "python3"
    },
    "language_info": {
      "codemirror_mode": {
        "name": "ipython",
        "version": 3
      },
      "file_extension": ".py",
      "mimetype": "text/x-python",
      "name": "python",
      "nbconvert_exporter": "python",
      "pygments_lexer": "ipython3",
      "version": "3.12.7"
    }
  },
  "nbformat": 4,
  "nbformat_minor": 0
}
