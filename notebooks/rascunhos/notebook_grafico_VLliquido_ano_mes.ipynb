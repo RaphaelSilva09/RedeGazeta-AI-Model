{
 "cells": [
  {
   "cell_type": "markdown",
   "metadata": {},
   "source": [
    "\n",
    "# Gráfico Vl. Liquido em relação ao Ano/Mes"
   ]
  },
  {
   "cell_type": "markdown",
   "metadata": {},
   "source": [
    "### Instruções para uso local ou remoto (Google Colab ou VScode)\n",
    "\n",
    "Aqui deixaremos brevemente um passo a passo para que você usuário seja capaz de executar o código localmente ou remotamente pelo seu google drive, podendo escolher a forma mais viável para seu uso e conhecimento."
   ]
  },
  {
   "cell_type": "markdown",
   "metadata": {},
   "source": [
    "##### Google Colab\n",
    "\n",
    "1. Faça o upload do seu arquivo .ipynb para o Google Drive.\n",
    "2. Abra o Google Colab em seu navegador.\n",
    "3. Clique em \"Arquivo\" no menu superior e selecione \"Abrir notebook\".\n",
    "4. Na guia \"Upload\", clique em \"Procurar\" e selecione o arquivo .ipynb que você enviou para o Google Drive.\n",
    "5. Após selecionar o arquivo, clique em \"Abrir\".\n",
    "6. Aguarde o carregamento do notebook no Google Colab.\n",
    "7. Agora que você carregou o notebook no Google Colab, você pode fazer as alterações necessárias nos arquivos e caminhos para se adequar ao seu ambiente específico.\n",
    "\n",
    "No notebook, a célula seguinte à essa contém as leituras dos arquivos CSV com o caminho do drive do criador desse notebook.\n",
    "Comente as linhas que fazem referência aos arquivos locais e descomente as linhas que fazem referência ao Google Drive. Por exemplo:\n",
    "\n",
    "- descomente as linhas que começam com # from google.colab import drive;\n",
    "- comente as linhas que começam com tabela_Meta = pd.read_csv(\"./data/Cópia de BASE INTELI_META_OCUP-limpo.csv\").\n",
    "\n",
    "Certifique-se de que os arquivos CSV estejam localizados no diretório correto em seu ambiente virtual. Por exemplo, se você tiver uma pasta chamada \"data\" no mesmo diretório do notebook, coloque os arquivos CSV nessa pasta e ajuste seus nomes. Possivelmente os arquivos vão seguir o seguinte padrão, mesmo no seu drive:\n",
    "\n",
    "tabela_Meta = pd.read_csv(\"/content/drive/MyDrive/NomeDaPastaDosArquivos/arquivo.csv)\n",
    "\n",
    "Salve as alterações no notebook.\n",
    "Agora você pode executar as células do notebook no Google Colab e as alterações nos arquivos e caminhos serão aplicadas ao seu ambiente do colab. Lembre-se de que você não precisará ter as bibliotecas necessárias instaladas em seu ambiente local para executar o código corretamente, dado que ao executar pela ferramenta do google essas dependências estarão aplicadas por padrão"
   ]
  },
  {
   "cell_type": "markdown",
   "metadata": {},
   "source": [
    "##### VScode\n",
    "\n",
    "1. Coloque os arquivos CSV dentro da pasta \"data\" desse notebook\n",
    "\n",
    "No notebook, a célula seguinte à essa contém as leituras dos arquivos CSV com o caminho do drive do criador desse notebook.\n",
    "Comente as linhas que fazem referência aos arquivos locais e descomente as linhas que fazem referência ao Google Drive. Por exemplo:\n",
    "\n",
    "- descomente as linhas que começam com # from google.colab import drive;\n",
    "- comente as linhas que começam com tabela_Meta = pd.read_csv(\"./data/Cópia de BASE INTELI_META_OCUP-limpo.csv\").\n",
    "\n",
    "Certifique-se de que os arquivos CSV estejam localizados no diretório correto em seu ambiente virtual. Por exemplo, se você tiver uma pasta chamada \"data\" no mesmo diretório do notebook, coloque os arquivos CSV nessa pasta e ajuste seus nomes. Possivelmente os arquivos vão seguir o seguinte padrão, mesmo no seu drive:\n",
    "\n",
    "df_metas = pd.read_csv(\"./data/dados_tratados/BASE INTELI_META-limpo.csv\")\n",
    "\n",
    "Salve as alterações no notebook.\n",
    "Agora você pode executar as células do notebook no VScode e as alterações nos arquivos e caminhos serão aplicadas ao seu ambiente do colab. Lembre-se de que você precisará ter as bibliotecas necessárias instaladas em seu ambiente local para executar o código corretamente:\n",
    "\n",
    "Para fazer a instalação, basta abrir o terminal integrado e inserir o seguinte:"
   ]
  },
  {
   "cell_type": "code",
   "execution_count": null,
   "metadata": {},
   "outputs": [],
   "source": [
    "#pip install pandas numpy matplotlib"
   ]
  },
  {
   "cell_type": "markdown",
   "metadata": {},
   "source": [
    "## Importação e instalação de bibliotecas\n",
    "\n",
    "Primeiro importamos as bibliotecas necessárias para o projeto funcionar devidamente"
   ]
  },
  {
   "cell_type": "code",
   "execution_count": null,
   "metadata": {},
   "outputs": [],
   "source": [
    "#from google.colab import drive\n",
    "#drive.mount('/content/drive')\n",
    "\n",
    "import pandas as pd\n",
    "import matplotlib.pyplot as plt"
   ]
  },
  {
   "cell_type": "markdown",
   "metadata": {},
   "source": [
    "Carregamento da Tabela de Dados Atualizada"
   ]
  },
  {
   "cell_type": "code",
   "execution_count": null,
   "metadata": {},
   "outputs": [],
   "source": [
    "# adicione o caminho do arquivo no seu Google Drive caso use no colab\n",
    "#tabela_atualizada = pd.read_csv('/content/drive/MyDrive/M3/Projeto/tratados/tratada_BaseDados_ProjetoINTELI_RG_01_AGOSTO_2024.csv')\n",
    "\n",
    "# caso utilize localmente, primeiramente use o comando \"pip install pandas numpy\" no terminal da sua máquina.\n",
    "# depois, descomente o código abaixo e tudo deve funcionar, desde que os arquivos estejam na pasta \"./dadosTratados/nome-do-arquivo.tipo\"\n",
    "tabela_atualizada = pd.read_csv(\"./data/dados_tratados/tratada_BaseDados_ProjetoINTELI_RG_01_AGOSTO_2024.csv\")"
   ]
  },
  {
   "cell_type": "markdown",
   "metadata": {},
   "source": [
    "Visualização das Primeiras Linhas da Tabela"
   ]
  },
  {
   "cell_type": "code",
   "execution_count": null,
   "metadata": {},
   "outputs": [],
   "source": [
    "tabela_atualizada.head()\n"
   ]
  },
  {
   "cell_type": "markdown",
   "metadata": {},
   "source": [
    "Definição dos Anos e Extração de Meses Únicos"
   ]
  },
  {
   "cell_type": "code",
   "execution_count": null,
   "metadata": {},
   "outputs": [],
   "source": [
    "anos = [2020, 2021, 2022, 2023, 2024]\n",
    "meses = tabela_atualizada['Mês'].unique()"
   ]
  },
  {
   "cell_type": "markdown",
   "metadata": {},
   "source": [
    "Análise dos Valores Líquidos Finais por Mês e Ano"
   ]
  },
  {
   "cell_type": "code",
   "execution_count": null,
   "metadata": {},
   "outputs": [],
   "source": [
    "df_VL_por_Mes_e_Ano = tabela_atualizada.groupby(['Ano', 'Mês']).agg({'Vl Liquido Final': 'sum'}).reset_index()\n",
    "\n",
    "for ano in anos:\n",
    "    df_ano = df_VL_por_Mes_e_Ano[df_VL_por_Mes_e_Ano['Ano'] == ano]\n",
    "\n",
    "\n",
    "    df_ano = df_ano.sort_values(by='Mês')\n",
    "\n",
    "    plt.figure(figsize=(10, 6))\n",
    "    plt.plot(df_ano['Mês'], df_ano['Vl Liquido Final'], marker='o')\n",
    "    plt.title(f'Valores Líquidos Finais por Mês para o Ano {ano}')\n",
    "    plt.xlabel('Mês')\n",
    "    plt.ylabel('Valor Líquido Final')\n",
    "    plt.xticks(range(1, 13))\n",
    "    plt.grid(True)\n",
    "    plt.show()"
   ]
  }
 ],
 "metadata": {
  "kernelspec": {
   "display_name": "Python 3",
   "language": "python",
   "name": "python3"
  },
  "language_info": {
   "name": "python",
   "version": "3.12.6"
  }
 },
 "nbformat": 4,
 "nbformat_minor": 2
}
