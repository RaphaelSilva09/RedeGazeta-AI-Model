{
  "cells": [
    {
      "cell_type": "markdown",
      "metadata": {
        "id": "VGCHkbTqxmZ1"
      },
      "source": [
        "## Apresentando as métricas\n",
        "\n",
        "As métricas medem o quão próximo o modelo está dos valores reais, destacando sua precisão. Esses cálculos são realizados com os dados reservados para teste, que não foram usados durante o treinamento. No modelo atual, 70% dos dados das tabelas foram destinados ao treinamento e 30% ao teste. As métricas a serem usadas pelo grupo são:\n",
        "  - Média do Erro Absoluto (MAE)\n",
        "  - Média Quadrática de Erro (MSE)\n",
        "  - Coeficiente de Determinação (R²)\n"
      ]
    },
    {
      "cell_type": "markdown",
      "metadata": {
        "id": "8Y-rkaBn0D14"
      },
      "source": [
        "### Erro Médio Absoluto (MAE - do inglês *Mean Absoluto Error*)\n",
        "\n",
        "O MAE é uma métrica utilizada para avaliar a qualidade de modelos de regressão, calculando a média das diferenças absolutas entre os valores reais e os valores preditos. Quanto menor o valor do MAE, melhor o desempenho do modelo. Abaixo, apresentamos o cálculo desse indicador no modelo do grupo:"
      ]
    },
    {
      "cell_type": "code",
      "execution_count": null,
      "metadata": {
        "id": "z3oiwjlUzaHO"
      },
      "outputs": [],
      "source": [
        "mae = mean_absolute_error(y_test, y_pred)\n",
        "print(f\"Mean Absolute Error: {mae}\")"
      ]
    },
    {
      "cell_type": "markdown",
      "metadata": {},
      "source": [
        "\n",
        "### Erro Quadrático Médio (MSE - do inglês *Mean Squared Error*)\n",
        "\n",
        "O MSE é uma métrica utilizada para avaliar a qualidade de modelos de regressão, calculando a média de diferença entre o valor predito com o real, assim como no MAE, entretanto a diferença dos valores é elevado ao quadrado, a fim de transformar os valores em positivo. Dessa forma, quanto menor o MSE, melhor é o desempenho do modelo. Abaixo, apresentamos o cálculo desse indicador no modelo do grupo, passando a raiz quadrada no resultado para facilitar a interpretação dos valores:"
      ]
    },
    {
      "cell_type": "code",
      "execution_count": null,
      "metadata": {},
      "outputs": [],
      "source": [
        "mse = mean_squared_error(y_test, y_pred)\n",
        "print(f\"Root Mean Squared Error: {sqrt(mse)}\")\n"
      ]
    },
    {
      "cell_type": "markdown",
      "metadata": {},
      "source": [
        "### Coeficiente de Determinação (R²)"
      ]
    },
    {
      "cell_type": "markdown",
      "metadata": {},
      "source": [
        "O Coeficiente de Determinação R² é uma métrica que representa o percentual da variância dos dados previstos, ou seja, o quão explicativo é o modelo em relação aos dados de acordo com o quão distante esses valores estão do valor central (médio). Uma vez que a fórmula do R² considera a subtração desta conta por 1, quando menor o percentual obtido, melhor é a explicação do modelo. Este, no entanto, não é suficiente para ter uma noção geral da performace do modelo, dependendo de outras métricas (como o MAE e o MSE). Abaixo, apresentamos o cálculo desse indicador no modelo do grupo:"
      ]
    },
    {
      "cell_type": "code",
      "execution_count": null,
      "metadata": {},
      "outputs": [],
      "source": [
        "r2 = r2_score(y_test, y_pred)\n",
        "print(f\"R² Score: {r2}\")"
      ]
    }
  ],
  "metadata": {
    "colab": {
      "provenance": []
    },
    "kernelspec": {
      "display_name": "Python 3",
      "name": "python3"
    },
    "language_info": {
      "name": "python"
    }
  },
  "nbformat": 4,
  "nbformat_minor": 0
}
