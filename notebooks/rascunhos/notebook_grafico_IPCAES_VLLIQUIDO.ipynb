{
  "cells": [
    {
      "cell_type": "markdown",
      "metadata": {
        "colab_type": "text",
        "id": "view-in-github"
      },
      "source": [
        "<a href=\"https://colab.research.google.com/github/AndreLobo1/pond_mat_1/blob/main/notebook_grafico_IPCAES_VLLIQUIDO.ipynb\" target=\"_parent\"><img src=\"https://colab.research.google.com/assets/colab-badge.svg\" alt=\"Open In Colab\"/></a>"
      ]
    },
    {
      "cell_type": "markdown",
      "metadata": {
        "id": "EF8U25flYcoq"
      },
      "source": [
        "# Análise da Relação entre IPCA ES e VL LIQUIDO por Mês\n",
        "\n",
        "Neste notebook, iremos calcular a média mensal do Índice de Preços ao Consumidor Amplo do Espírito Santo (IPCA ES) e a soma do VL LIQUIDO final para cada mês. Em seguida, visualizaremos essa relação utilizando um gráfico de linhas com eixos secundários, onde:\n",
        "\n",
        "- O eixo y à esquerda representará os valores de VL LIQUIDO.\n",
        "\n",
        "- O eixo y à direita representará os valores médios do IPCA ES.\n",
        "\n",
        "Essa gráfico nos permitirá observar como essas duas variáveis se comportam ao longo dos meses e identificar possíveis correlações ou padrões de comportamento entre o IPCA ES e o VL LIQUIDO final.\n"
      ]
    },
    {
      "cell_type": "markdown",
      "metadata": {},
      "source": [
        "### Instruções para uso local ou remoto (Google Colab ou VScode)\n",
        "\n",
        "Aqui deixaremos brevemente um passo a passo para que você usuário seja capaz de executar o código localmente ou remotamente pelo seu google drive, podendo escolher a forma mais viável para seu uso e conhecimento."
      ]
    },
    {
      "cell_type": "markdown",
      "metadata": {},
      "source": [
        "##### Google Colab\n",
        "\n",
        "1. Faça o upload do seu arquivo .ipynb para o Google Drive.\n",
        "2. Abra o Google Colab em seu navegador.\n",
        "3. Clique em \"Arquivo\" no menu superior e selecione \"Abrir notebook\".\n",
        "4. Na guia \"Upload\", clique em \"Procurar\" e selecione o arquivo .ipynb que você enviou para o Google Drive.\n",
        "5. Após selecionar o arquivo, clique em \"Abrir\".\n",
        "6. Aguarde o carregamento do notebook no Google Colab.\n",
        "7. Agora que você carregou o notebook no Google Colab, você pode fazer as alterações necessárias nos arquivos e caminhos para se adequar ao seu ambiente específico.\n",
        "\n",
        "No notebook, a célula seguinte à essa contém as leituras dos arquivos CSV com o caminho do drive do criador desse notebook.\n",
        "Comente as linhas que fazem referência aos arquivos locais e descomente as linhas que fazem referência ao Google Drive. Por exemplo:\n",
        "\n",
        "- descomente as linhas que começam com # from google.colab import drive;\n",
        "- comente as linhas que começam com tabela_Meta = pd.read_csv(\"./data/Cópia de BASE INTELI_META_OCUP-limpo.csv\").\n",
        "\n",
        "Certifique-se de que os arquivos CSV estejam localizados no diretório correto em seu ambiente virtual. Por exemplo, se você tiver uma pasta chamada \"data\" no mesmo diretório do notebook, coloque os arquivos CSV nessa pasta e ajuste seus nomes. Possivelmente os arquivos vão seguir o seguinte padrão, mesmo no seu drive:\n",
        "\n",
        "tabela_Meta = pd.read_csv(\"/content/drive/MyDrive/NomeDaPastaDosArquivos/arquivo.csv)\n",
        "\n",
        "Salve as alterações no notebook.\n",
        "Agora você pode executar as células do notebook no Google Colab e as alterações nos arquivos e caminhos serão aplicadas ao seu ambiente do colab. Lembre-se de que você não precisará ter as bibliotecas necessárias instaladas em seu ambiente local para executar o código corretamente, dado que ao executar pela ferramenta do google essas dependências estarão aplicadas por padrão"
      ]
    },
    {
      "cell_type": "markdown",
      "metadata": {},
      "source": [
        "##### VScode\n",
        "\n",
        "1. Coloque os arquivos CSV dentro da pasta \"data\" desse notebook\n",
        "\n",
        "No notebook, a célula seguinte à essa contém as leituras dos arquivos CSV com o caminho do drive do criador desse notebook.\n",
        "Comente as linhas que fazem referência aos arquivos locais e descomente as linhas que fazem referência ao Google Drive. Por exemplo:\n",
        "\n",
        "- descomente as linhas que começam com # from google.colab import drive;\n",
        "- comente as linhas que começam com tabela_Meta = pd.read_csv(\"./data/Cópia de BASE INTELI_META_OCUP-limpo.csv\").\n",
        "\n",
        "Certifique-se de que os arquivos CSV estejam localizados no diretório correto em seu ambiente virtual. Por exemplo, se você tiver uma pasta chamada \"data\" no mesmo diretório do notebook, coloque os arquivos CSV nessa pasta e ajuste seus nomes. Possivelmente os arquivos vão seguir o seguinte padrão, mesmo no seu drive:\n",
        "\n",
        "df_metas = pd.read_csv(\"./data/dados_tratados/BASE INTELI_META-limpo.csv\")\n",
        "\n",
        "Salve as alterações no notebook.\n",
        "Agora você pode executar as células do notebook no VScode e as alterações nos arquivos e caminhos serão aplicadas ao seu ambiente do colab. Lembre-se de que você precisará ter as bibliotecas necessárias instaladas em seu ambiente local para executar o código corretamente:\n",
        "\n",
        "Para fazer a instalação, basta abrir o terminal integrado e inserir o seguinte:"
      ]
    },
    {
      "cell_type": "code",
      "execution_count": null,
      "metadata": {},
      "outputs": [],
      "source": [
        "#pip install pandas matplotlib seaborn"
      ]
    },
    {
      "cell_type": "markdown",
      "metadata": {
        "id": "bFiP8j4KVf5Y"
      },
      "source": [
        "## 1. Importação e instalação de bibliotecas\n",
        "Primeiro, precisamos importar as bibliotecas necessárias para trabalhar com os dados e gerar os gráficos."
      ]
    },
    {
      "cell_type": "code",
      "execution_count": 8,
      "metadata": {
        "id": "uRswpHzcYiFF"
      },
      "outputs": [],
      "source": [
        "#from google.colab import drive\n",
        "#drive.mount('/content/drive')\n",
        "\n",
        "import pandas as pd\n",
        "import matplotlib.pyplot as plt\n",
        "import seaborn as sns"
      ]
    },
    {
      "cell_type": "markdown",
      "metadata": {
        "id": "bHn0gC6JYk1g"
      },
      "source": [
        "## 2. Carregar os dados\n",
        "\n",
        "Vamos carregar o arquivo CSV que contém os dados."
      ]
    },
    {
      "cell_type": "code",
      "execution_count": 9,
      "metadata": {
        "id": "wF3rjL6lYvhe"
      },
      "outputs": [],
      "source": [
        "\n",
        "# adicione o caminho do arquivo no seu Google Drive caso use no colab\n",
        "# df = pd.read_csv(\"/content/drive/MyDrive/Cópia de tratada_BaseDados_ProjetoINTELI_RG_01_AGOSTO_2024.csv\")\n",
        "\n",
        "# caso utilize localmente, primeiramente use o comando \"pip install pandas numpy\" no terminal da sua máquina.\n",
        "# depois, descomente o código abaixo e tudo deve funcionar, desde que os arquivos estejam na pasta \"./dadosTratados/nome-do-arquivo.tipo\"\n",
        "df = pd.read_csv(\"./dadosTratados/tratada_BaseDados_ProjetoINTELI_RG_01_AGOSTO_2024.csv\")\n"
      ]
    },
    {
      "cell_type": "markdown",
      "metadata": {
        "id": "2BS4eTW6V83p"
      },
      "source": [
        "### 3. Geração do Gráfico\n",
        "\n",
        "Aqui estamos realizando o agrupamento dos dados pelo campo 'Mês', calculando a média do índice IPCA ES e a soma do VL LIQUIDO final para cada mês. Em seguida, criamos uma figura para o gráfico com dois eixos y.\n",
        "\n",
        "Para finalizar, o gráfico recebe um título, e são aplicados ajustes automáticos no layout para melhorar a disposição dos elementos. O gráfico é exibido com uma grade de fundo para proporcionar uma melhor visualização dos dados."
      ]
    },
    {
      "cell_type": "code",
      "execution_count": null,
      "metadata": {
        "colab": {
          "base_uri": "https://localhost:8080/",
          "height": 607
        },
        "id": "ghlXcqkRUdG8",
        "outputId": "43959ac2-e2ea-462b-f9b3-ab3d9403853e"
      },
      "outputs": [],
      "source": [
        "# Agrupar os dados por 'Mês' e calcular a média do 'IPCA ES' e a soma do 'VL LIQUIDO'\n",
        "df_grouped_avg = df.groupby('Mês').agg({\n",
        "    'IPCA ES': 'mean',\n",
        "    'Vl Liquido Final': 'sum'\n",
        "}).reset_index()\n",
        "\n",
        "# Criar uma figura e um eixo para o gráfico\n",
        "fig, ax1 = plt.subplots(figsize=(10, 6))\n",
        "\n",
        "# Configurar o primeiro eixo y (VL LIQUIDO)\n",
        "ax1.set_xlabel('Mês')\n",
        "ax1.set_ylabel('VL LIQUIDO', color='blue')\n",
        "ax1.plot(df_grouped_avg['Mês'], df_grouped_avg['Vl Liquido Final'], marker='o', linestyle='-', color='blue', label='VL LIQUIDO')\n",
        "ax1.tick_params(axis='y', labelcolor='blue')\n",
        "\n",
        "# Configurar o segundo eixo y (IPCA ES) compartilhando o eixo x com ax1\n",
        "ax2 = ax1.twinx()\n",
        "ax2.set_ylabel('IPCA ES', color='red')\n",
        "ax2.plot(df_grouped_avg['Mês'], df_grouped_avg['IPCA ES'], marker='o', linestyle='-', color='red', label='IPCA ES')\n",
        "ax2.tick_params(axis='y', labelcolor='red')\n",
        "\n",
        "# Configurar o título e o layout do gráfico\n",
        "plt.title('Valores de IPCA ES e VL LIQUIDO por Mês com Eixos Secundários (Média do IPCA)')\n",
        "fig.tight_layout()\n",
        "plt.grid(True)\n",
        "plt.show()\n"
      ]
    }
  ],
  "metadata": {
    "colab": {
      "authorship_tag": "ABX9TyNXJWsqHJGlgBrrjsb1vLk1",
      "include_colab_link": true,
      "mount_file_id": "10DT8GPw7zUZuV2nzHoHx8EWVmgNkSE2L",
      "provenance": []
    },
    "kernelspec": {
      "display_name": "Python 3",
      "name": "python3"
    },
    "language_info": {
      "name": "python"
    }
  },
  "nbformat": 4,
  "nbformat_minor": 0
}
