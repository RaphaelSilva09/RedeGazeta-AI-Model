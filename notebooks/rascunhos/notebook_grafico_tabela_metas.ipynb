{
  "cells": [
    {
      "cell_type": "markdown",
      "metadata": {
        "id": "v2WL46uCCnd_"
      },
      "source": [
        "# Gráficos gerados pela tabela BASE INTELI_META_OCUP\n"
      ]
    },
    {
      "cell_type": "markdown",
      "metadata": {
        "id": "JADUxazoEYDr"
      },
      "source": [
        "### Instruções para uso local ou remoto (Google Colab ou VScode)\n",
        "\n",
        "Aqui deixaremos brevemente um passo a passo para que você usuário seja capaz de executar o código localmente ou remotamente pelo seu google drive, podendo escolher a forma mais viável para seu uso e conhecimento."
      ]
    },
    {
      "cell_type": "markdown",
      "metadata": {},
      "source": [
        "##### Google Colab\n",
        "\n",
        "1. Faça o upload do seu arquivo .ipynb para o Google Drive.\n",
        "2. Abra o Google Colab em seu navegador.\n",
        "3. Clique em \"Arquivo\" no menu superior e selecione \"Abrir notebook\".\n",
        "4. Na guia \"Upload\", clique em \"Procurar\" e selecione o arquivo .ipynb que você enviou para o Google Drive.\n",
        "5. Após selecionar o arquivo, clique em \"Abrir\".\n",
        "6. Aguarde o carregamento do notebook no Google Colab.\n",
        "7. Agora que você carregou o notebook no Google Colab, você pode fazer as alterações necessárias nos arquivos e caminhos para se adequar ao seu ambiente específico.\n",
        "\n",
        "No notebook, a célula seguinte à essa contém as leituras dos arquivos CSV com o caminho do drive do criador desse notebook.\n",
        "Comente as linhas que fazem referência aos arquivos locais e descomente as linhas que fazem referência ao Google Drive. Por exemplo:\n",
        "\n",
        "- descomente as linhas que começam com # from google.colab import drive;\n",
        "- comente as linhas que começam com tabela_Meta = pd.read_csv(\"./data/Cópia de BASE INTELI_META_OCUP-limpo.csv\").\n",
        "\n",
        "Certifique-se de que os arquivos CSV estejam localizados no diretório correto em seu ambiente virtual. Por exemplo, se você tiver uma pasta chamada \"data\" no mesmo diretório do notebook, coloque os arquivos CSV nessa pasta e ajuste seus nomes. Possivelmente os arquivos vão seguir o seguinte padrão, mesmo no seu drive:\n",
        "\n",
        "tabela_Meta = pd.read_csv(\"/content/drive/MyDrive/NomeDaPastaDosArquivos/arquivo.csv)\n",
        "\n",
        "Salve as alterações no notebook.\n",
        "Agora você pode executar as células do notebook no Google Colab e as alterações nos arquivos e caminhos serão aplicadas ao seu ambiente do colab. Lembre-se de que você não precisará ter as bibliotecas necessárias instaladas em seu ambiente local para executar o código corretamente, dado que ao executar pela ferramenta do google essas dependências estarão aplicadas por padrão"
      ]
    },
    {
      "cell_type": "markdown",
      "metadata": {},
      "source": [
        "##### VScode\n",
        "\n",
        "1. Coloque os arquivos CSV dentro da pasta \"data\" desse notebook\n",
        "\n",
        "No notebook, a célula seguinte à essa contém as leituras dos arquivos CSV com o caminho do drive do criador desse notebook.\n",
        "Comente as linhas que fazem referência aos arquivos locais e descomente as linhas que fazem referência ao Google Drive. Por exemplo:\n",
        "\n",
        "- descomente as linhas que começam com # from google.colab import drive;\n",
        "- comente as linhas que começam com tabela_Meta = pd.read_csv(\"./data/Cópia de BASE INTELI_META_OCUP-limpo.csv\").\n",
        "\n",
        "Certifique-se de que os arquivos CSV estejam localizados no diretório correto em seu ambiente virtual. Por exemplo, se você tiver uma pasta chamada \"data\" no mesmo diretório do notebook, coloque os arquivos CSV nessa pasta e ajuste seus nomes. Possivelmente os arquivos vão seguir o seguinte padrão, mesmo no seu drive:\n",
        "\n",
        "df_metas = pd.read_csv(\"./data/dados_tratados/BASE INTELI_META-limpo.csv\")\n",
        "\n",
        "Salve as alterações no notebook.\n",
        "Agora você pode executar as células do notebook no VScode e as alterações nos arquivos e caminhos serão aplicadas ao seu ambiente do colab. Lembre-se de que você precisará ter as bibliotecas necessárias instaladas em seu ambiente local para executar o código corretamente:\n",
        "\n",
        "Para fazer a instalação, basta abrir o terminal integrado e inserir o seguinte:"
      ]
    },
    {
      "cell_type": "code",
      "execution_count": null,
      "metadata": {},
      "outputs": [],
      "source": [
        "#pip install pandas matplotlib"
      ]
    },
    {
      "cell_type": "markdown",
      "metadata": {
        "id": "SmYsVfesDP55"
      },
      "source": [
        "## Importação e instalação de bibliotecas\n",
        "\n",
        "Primeiro importamos as bibliotecas necessárias para o projeto funcionar devidamente"
      ]
    },
    {
      "cell_type": "code",
      "execution_count": null,
      "metadata": {
        "collapsed": true,
        "id": "EcvHZBkpJBYz"
      },
      "outputs": [],
      "source": [
        "#from google.colab import drive\n",
        "#drive.mount('/content/drive')\n",
        "\n",
        "import pandas as pd\n",
        "import matplotlib.pyplot as plt\n"
      ]
    },
    {
      "cell_type": "markdown",
      "metadata": {
        "id": "B0kr1ifbD02F"
      },
      "source": [
        "Importando a tabela BASE INTELI_META_OCUP já limpa, usando apenas a primeira página, META"
      ]
    },
    {
      "cell_type": "code",
      "execution_count": null,
      "metadata": {
        "id": "-Hyl4ZJZJnds"
      },
      "outputs": [],
      "source": [
        "# adicione o caminho do arquivo no seu Google Drive caso use no colab\n",
        "# tabela_de_metas = pd.read_csv('/content/drive/MyDrive/M3/Projeto/tratados/BASE INTELI_META_OCUP-limpo.csv')\n",
        "\n",
        "# caso utilize localmente, primeiramente use o comando \"pip install pandas numpy\" no terminal da sua máquina.\n",
        "# depois, descomente o código abaixo e tudo deve funcionar, desde que os arquivos estejam na pasta \"./dadosTratados/nome-do-arquivo.tipo\"\n",
        "tabela_de_metas = pd.read_csv('./dadosTratados/BASE INTELI_META_OCUP-limpo.csv')\n",
        "\n"
      ]
    },
    {
      "cell_type": "markdown",
      "metadata": {
        "id": "4weXiNyLEU2k"
      },
      "source": [
        "## Entendo as colunas que a tabela possui"
      ]
    },
    {
      "cell_type": "code",
      "execution_count": null,
      "metadata": {
        "colab": {
          "base_uri": "https://localhost:8080/",
          "height": 206
        },
        "id": "6vcAxma0JzeX",
        "outputId": "bc67ac00-9979-4433-fd1d-28d130dcc4c4"
      },
      "outputs": [],
      "source": [
        "tabela_de_metas.head()"
      ]
    },
    {
      "cell_type": "markdown",
      "metadata": {
        "id": "lHLqIJQEErXF"
      },
      "source": [
        "Criando uma nova coluna com o Valor líquido final, calculado pela multiplicação entre a coluna Meta e a o quantos eles atingiram da meta colada em porcentagem."
      ]
    },
    {
      "cell_type": "code",
      "execution_count": null,
      "metadata": {
        "id": "TBKr1ZpiKDKV"
      },
      "outputs": [],
      "source": [
        "tabela_de_metas['VL Final'] = tabela_de_metas['Meta'] * tabela_de_metas['% Ating. Meta']"
      ]
    },
    {
      "cell_type": "markdown",
      "metadata": {
        "id": "N03GmcZlFrZc"
      },
      "source": [
        "Visualizando a nova coluna na tabela\n"
      ]
    },
    {
      "cell_type": "code",
      "execution_count": null,
      "metadata": {
        "colab": {
          "base_uri": "https://localhost:8080/",
          "height": 206
        },
        "id": "JwH885OANA0i",
        "outputId": "f0ec3b64-ffdc-4b26-b41e-e1dbdd6ec27b"
      },
      "outputs": [],
      "source": [
        "tabela_de_metas.head()"
      ]
    },
    {
      "cell_type": "markdown",
      "metadata": {
        "id": "FZdfuMLbFx2J"
      },
      "source": [
        "Definindo uma lista com todos os meses e anos que possui a tabela"
      ]
    },
    {
      "cell_type": "code",
      "execution_count": null,
      "metadata": {
        "id": "YAR0-6a7NnJv"
      },
      "outputs": [],
      "source": [
        "anos = tabela_de_metas['Ano'].unique()\n",
        "meses = tabela_de_metas['Mês'].unique()"
      ]
    },
    {
      "cell_type": "markdown",
      "metadata": {
        "id": "iYeCDDCiGmUG"
      },
      "source": [
        "Fazendo um loop passando pelos anos que tem na tabela para gerar gráficos de linhas de Valor Líquido final por mês a cada ano, sendo cada linha uma UEN"
      ]
    },
    {
      "cell_type": "code",
      "execution_count": null,
      "metadata": {
        "colab": {
          "base_uri": "https://localhost:8080/",
          "height": 1000
        },
        "id": "H2SsXIcmWO-_",
        "outputId": "aa9cdaec-8e70-49e2-85ba-dab4ea7ec2dd"
      },
      "outputs": [],
      "source": [
        "for ano in anos:\n",
        "    df_ano = tabela_de_metas[tabela_de_metas['Ano'] == ano]\n",
        "    df_porAno = df_ano.pivot(index='Mês', columns='Uen', values='VL Final')\n",
        "\n",
        "    plt.figure(figsize=(12, 8))\n",
        "    plt.plot(df_porAno)\n",
        "    plt.xticks(range(len(meses)), meses)\n",
        "\n",
        "    plt.title(f'Valores por UEN - Ano {ano}')\n",
        "    plt.xlabel('Mês')\n",
        "    plt.ylabel('VL Final')\n",
        "    plt.legend(df_porAno.columns, title='UEN')\n",
        "    plt.grid(True)\n",
        "    plt.show()\n"
      ]
    },
    {
      "cell_type": "markdown",
      "metadata": {
        "id": "M1OW362yRqGh"
      },
      "source": [
        "Agora gerando um gráfico unico sobre todos os registros do Valor Líquido Final, que temos mês a mês, desde 2020 até o primeiro sementre de 2024, sendo cada linha um UEN"
      ]
    },
    {
      "cell_type": "code",
      "execution_count": null,
      "metadata": {
        "colab": {
          "base_uri": "https://localhost:8080/",
          "height": 487
        },
        "id": "iAe3T6I0txSv",
        "outputId": "b0ca544e-38fe-4e4e-e729-1cb21d030807"
      },
      "outputs": [],
      "source": [
        "df_agrupado = tabela_de_metas.groupby(['Mês', 'Uen'])['VL Final'].sum().reset_index()\n",
        "\n",
        "df_pivot2 = df_agrupado.pivot(index='Mês', columns='Uen', values='VL Final')\n",
        "\n",
        "df_pivot2 = df_pivot2.reindex(meses)\n",
        "\n",
        "# Plotar o gráfico de linhas\n",
        "df_pivot2.plot(kind='line', marker='o')\n",
        "\n",
        "plt.xticks(range(len(meses)), meses)\n",
        "\n",
        "plt.title('Valores por Mês e Uen (Soma de Todos os Anos entre 2020- 1º Semetres de 2024)')\n",
        "plt.xlabel('Mês')\n",
        "plt.ylabel('Valor')\n",
        "plt.grid(True)\n",
        "plt.show()"
      ]
    }
  ],
  "metadata": {
    "colab": {
      "provenance": []
    },
    "kernelspec": {
      "display_name": "Python 3",
      "name": "python3"
    },
    "language_info": {
      "name": "python"
    }
  },
  "nbformat": 4,
  "nbformat_minor": 0
}
