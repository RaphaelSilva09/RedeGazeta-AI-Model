{
  "cells": [
    {
      "cell_type": "markdown",
      "metadata": {
        "id": "iZw_Oih674Qp"
      },
      "source": [
        "## Gráfico de valor líquido em relação ao canal de vendas"
      ]
    },
    {
      "cell_type": "markdown",
      "metadata": {
        "id": "aw6iOQ5GAufp"
      },
      "source": [
        "### Instruções para uso local ou remoto (Google Colab ou VScode)\n",
        "\n",
        "Aqui deixaremos brevemente um passo a passo para que você usuário seja capaz de executar o código localmente ou remotamente pelo seu google drive, podendo escolher a forma mais viável para seu uso e conhecimento."
      ]
    },
    {
      "cell_type": "markdown",
      "metadata": {},
      "source": [
        "##### Google Colab\n",
        "\n",
        "1. Faça o upload do seu arquivo .ipynb para o Google Drive.\n",
        "2. Abra o Google Colab em seu navegador.\n",
        "3. Clique em \"Arquivo\" no menu superior e selecione \"Abrir notebook\".\n",
        "4. Na guia \"Upload\", clique em \"Procurar\" e selecione o arquivo .ipynb que você enviou para o Google Drive.\n",
        "5. Após selecionar o arquivo, clique em \"Abrir\".\n",
        "6. Aguarde o carregamento do notebook no Google Colab.\n",
        "7. Agora que você carregou o notebook no Google Colab, você pode fazer as alterações necessárias nos arquivos e caminhos para se adequar ao seu ambiente específico.\n",
        "\n",
        "No notebook, a célula seguinte à essa contém as leituras dos arquivos CSV com o caminho do drive do criador desse notebook.\n",
        "Comente as linhas que fazem referência aos arquivos locais e descomente as linhas que fazem referência ao Google Drive. Por exemplo:\n",
        "\n",
        "- descomente as linhas que começam com # from google.colab import drive;\n",
        "- comente as linhas que começam com tabela_Meta = pd.read_csv(\"./data/Cópia de BASE INTELI_META_OCUP-limpo.csv\").\n",
        "\n",
        "Certifique-se de que os arquivos CSV estejam localizados no diretório correto em seu ambiente virtual. Por exemplo, se você tiver uma pasta chamada \"data\" no mesmo diretório do notebook, coloque os arquivos CSV nessa pasta e ajuste seus nomes. Possivelmente os arquivos vão seguir o seguinte padrão, mesmo no seu drive:\n",
        "\n",
        "tabela_Meta = pd.read_csv(\"/content/drive/MyDrive/NomeDaPastaDosArquivos/arquivo.csv)\n",
        "\n",
        "Salve as alterações no notebook.\n",
        "Agora você pode executar as células do notebook no Google Colab e as alterações nos arquivos e caminhos serão aplicadas ao seu ambiente do colab. Lembre-se de que você não precisará ter as bibliotecas necessárias instaladas em seu ambiente local para executar o código corretamente, dado que ao executar pela ferramenta do google essas dependências estarão aplicadas por padrão"
      ]
    },
    {
      "cell_type": "markdown",
      "metadata": {},
      "source": [
        "##### VScode\n",
        "\n",
        "1. Coloque os arquivos CSV dentro da pasta \"data\" desse notebook\n",
        "\n",
        "No notebook, a célula seguinte à essa contém as leituras dos arquivos CSV com o caminho do drive do criador desse notebook.\n",
        "Comente as linhas que fazem referência aos arquivos locais e descomente as linhas que fazem referência ao Google Drive. Por exemplo:\n",
        "\n",
        "- descomente as linhas que começam com # from google.colab import drive;\n",
        "- comente as linhas que começam com tabela_Meta = pd.read_csv(\"./data/Cópia de BASE INTELI_META_OCUP-limpo.csv\").\n",
        "\n",
        "Certifique-se de que os arquivos CSV estejam localizados no diretório correto em seu ambiente virtual. Por exemplo, se você tiver uma pasta chamada \"data\" no mesmo diretório do notebook, coloque os arquivos CSV nessa pasta e ajuste seus nomes. Possivelmente os arquivos vão seguir o seguinte padrão, mesmo no seu drive:\n",
        "\n",
        "df_metas = pd.read_csv(\"./data/dados_tratados/BASE INTELI_META-limpo.csv\")\n",
        "\n",
        "Salve as alterações no notebook.\n",
        "Agora você pode executar as células do notebook no VScode e as alterações nos arquivos e caminhos serão aplicadas ao seu ambiente do colab. Lembre-se de que você precisará ter as bibliotecas necessárias instaladas em seu ambiente local para executar o código corretamente:\n",
        "\n",
        "Para fazer a instalação, basta abrir o terminal integrado e inserir o seguinte:"
      ]
    },
    {
      "cell_type": "code",
      "execution_count": null,
      "metadata": {},
      "outputs": [],
      "source": [
        "#pip install pandas matplotlib seaborn numpy"
      ]
    },
    {
      "cell_type": "markdown",
      "metadata": {},
      "source": [
        "## Importação e instalação de bibliotecas\n",
        "\n",
        "Primeiro importamos as bibliotecas necessárias para o projeto funcionar devidamente"
      ]
    },
    {
      "cell_type": "code",
      "execution_count": null,
      "metadata": {
        "id": "FVuSYcMQ7qns"
      },
      "outputs": [],
      "source": [
        "#from google.colab import drive\n",
        "#drive.mount('/content/drive')\n",
        "\n",
        "import matplotlib.pyplot as plt\n",
        "import numpy as np\n",
        "import pandas as pd\n",
        "import seaborn as sns"
      ]
    },
    {
      "cell_type": "markdown",
      "metadata": {
        "id": "8NdbEMDACoyk"
      },
      "source": [
        "feito isso, puxaremos as planilhas que vamos trabalhar para esse notebook"
      ]
    },
    {
      "cell_type": "code",
      "execution_count": null,
      "metadata": {
        "colab": {
          "base_uri": "https://localhost:8080/"
        },
        "id": "CJyCeN0ACoXc",
        "outputId": "bfad77bd-d98f-4214-f34d-9c9a323390e9"
      },
      "outputs": [],
      "source": [
        "# adicione o caminho do arquivo no seu Google Drive caso use no colab\n",
        "# df_agosto = pd.read_csv(\"/content/drive/MyDrive/Primeiro Ano/Módulo 3 - Modelo Preditivo Gazeta/Base de Dados Limpas/Cópia de tratada_BaseDados_ProjetoINTELI_RG_01_AGOSTO_2024.csv\")\n",
        "\n",
        "# caso utilize localmente, primeiramente use o comando \"pip install pandas numpy\" no terminal da sua máquina.\n",
        "# depois, descomente o código abaixo e tudo deve funcionar, desde que os arquivos estejam na pasta \"./dadosTratados/nome-do-arquivo.tipo\"\n",
        "df_agosto = pd.read_csv(\"./dadosTratados/tratada_BaseDados_ProjetoINTELI_RG_01_AGOSTO_2024.csv\")"
      ]
    },
    {
      "cell_type": "markdown",
      "metadata": {
        "id": "mLd46bidDuBk"
      },
      "source": [
        "com todas as nossas ferramentas preparadas, podemos começar a criar as nossas relações e gráficos."
      ]
    },
    {
      "cell_type": "markdown",
      "metadata": {
        "id": "dhiC9UMJD2Hm"
      },
      "source": [
        "Em primeira instância, vamos excluir as colunas que não são úteis para essa gráfico."
      ]
    },
    {
      "cell_type": "code",
      "execution_count": null,
      "metadata": {
        "colab": {
          "base_uri": "https://localhost:8080/",
          "height": 206
        },
        "id": "eqKo0XZzGJOC",
        "outputId": "0ca82491-5e0a-4137-8d1b-0750ddc262b2"
      },
      "outputs": [],
      "source": [
        "df_agosto_useful = df_agosto.drop(columns=['Veiculo', 'UEN', 'Segmento', '% Ating. Meta', 'Cliente', 'Setor', 'VL Tabela', 'Desconto R$', 'Desc %', 'Vl Bruto', 'IPCA ES', 'IPCA BR', 'Taxa Ac. TRI % PIB', 'CONCATENAR'])\n",
        "df_agosto_useful.head()"
      ]
    },
    {
      "cell_type": "markdown",
      "metadata": {
        "id": "-jS9RyVoLUBZ"
      },
      "source": [
        "Agora, o próximo gráfico apresentado é dividido por mês, representando a soma dos valores daqueles mês em todos os anos disponíveis, considerando a Origem (canal de venda que realizou a operação/venda) e o e VL líquido final (receita R$) ao longo dos meses, a fim de identificar tendências."
      ]
    },
    {
      "cell_type": "code",
      "execution_count": null,
      "metadata": {
        "colab": {
          "base_uri": "https://localhost:8080/",
          "height": 718
        },
        "id": "Du-R2C5wOBEJ",
        "outputId": "7aca3478-2b9c-4721-f622-dc715c041c6b"
      },
      "outputs": [],
      "source": [
        "resultado = df_agosto_useful.sort_values(by=['Ano', 'Mês', 'Origem'])\n",
        "resultado = resultado.groupby(['Origem', 'Ano', 'Mês'])['Vl Liquido Final'].sum().reset_index()\n",
        "\n",
        "plt.figure(figsize=(12, 8))\n",
        "sns.lineplot(data=resultado, x='Mês', y='Vl Liquido Final', hue='Origem', style='Origem', markers=True, dashes=False, errorbar=None)\n",
        "\n",
        "plt.title('Soma do Vl Liquido Final por Origem (2020-2024)')\n",
        "plt.xlabel('Mês')\n",
        "plt.ylabel('Vl Liquido Final')\n",
        "plt.xticks(ticks=range(1, 13), labels=['Jan', 'Feb', 'Mar', 'Apr', 'May', 'Jun', 'Jul', 'Aug', 'Sep', 'Oct', 'Nov', 'Dec'])\n",
        "plt.legend(title='Origem / Ano')\n",
        "plt.grid(True)\n",
        "plt.show()"
      ]
    }
  ],
  "metadata": {
    "colab": {
      "provenance": []
    },
    "kernelspec": {
      "display_name": "Python 3",
      "name": "python3"
    },
    "language_info": {
      "name": "python"
    }
  },
  "nbformat": 4,
  "nbformat_minor": 0
}
