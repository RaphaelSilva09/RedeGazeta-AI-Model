{
  "cells": [
    {
      "cell_type": "markdown",
      "metadata": {
        "id": "7N35Q4wyNlL7"
      },
      "source": [
        "# Estatística Descritiva das Tabelas usadas"
      ]
    },
    {
      "cell_type": "markdown",
      "metadata": {},
      "source": [
        "### Instruções para uso local ou remoto (Google Colab ou VScode)\n",
        "\n",
        "Aqui deixaremos brevemente um passo a passo para que você usuário seja capaz de executar o código localmente ou remotamente pelo seu google drive, podendo escolher a forma mais viável para seu uso e conhecimento."
      ]
    },
    {
      "cell_type": "markdown",
      "metadata": {},
      "source": [
        "##### Google Colab\n",
        "\n",
        "1. Faça o upload do seu arquivo .ipynb para o Google Drive.\n",
        "2. Abra o Google Colab em seu navegador.\n",
        "3. Clique em \"Arquivo\" no menu superior e selecione \"Abrir notebook\".\n",
        "4. Na guia \"Upload\", clique em \"Procurar\" e selecione o arquivo .ipynb que você enviou para o Google Drive.\n",
        "5. Após selecionar o arquivo, clique em \"Abrir\".\n",
        "6. Aguarde o carregamento do notebook no Google Colab.\n",
        "7. Agora que você carregou o notebook no Google Colab, você pode fazer as alterações necessárias nos arquivos e caminhos para se adequar ao seu ambiente específico.\n",
        "\n",
        "No notebook, a célula seguinte à essa contém as leituras dos arquivos CSV com o caminho do drive do criador desse notebook.\n",
        "Comente as linhas que fazem referência aos arquivos locais e descomente as linhas que fazem referência ao Google Drive. Por exemplo:\n",
        "\n",
        "- descomente as linhas que começam com # from google.colab import drive;\n",
        "- comente as linhas que começam com tabela_Meta = pd.read_csv(\"./data/Cópia de BASE INTELI_META_OCUP-limpo.csv\").\n",
        "\n",
        "Certifique-se de que os arquivos CSV estejam localizados no diretório correto em seu ambiente virtual. Por exemplo, se você tiver uma pasta chamada \"data\" no mesmo diretório do notebook, coloque os arquivos CSV nessa pasta e ajuste seus nomes. Possivelmente os arquivos vão seguir o seguinte padrão, mesmo no seu drive:\n",
        "\n",
        "tabela_Meta = pd.read_csv(\"/content/drive/MyDrive/NomeDaPastaDosArquivos/arquivo.csv)\n",
        "\n",
        "Salve as alterações no notebook.\n",
        "Agora você pode executar as células do notebook no Google Colab e as alterações nos arquivos e caminhos serão aplicadas ao seu ambiente do colab. Lembre-se de que você não precisará ter as bibliotecas necessárias instaladas em seu ambiente local para executar o código corretamente, dado que ao executar pela ferramenta do google essas dependências estarão aplicadas por padrão"
      ]
    },
    {
      "cell_type": "markdown",
      "metadata": {},
      "source": [
        "##### VScode\n",
        "\n",
        "1. Coloque os arquivos CSV dentro da pasta \"data\" desse notebook\n",
        "\n",
        "No notebook, a célula seguinte à essa contém as leituras dos arquivos CSV com o caminho do drive do criador desse notebook.\n",
        "Comente as linhas que fazem referência aos arquivos locais e descomente as linhas que fazem referência ao Google Drive. Por exemplo:\n",
        "\n",
        "- descomente as linhas que começam com # from google.colab import drive;\n",
        "- comente as linhas que começam com tabela_Meta = pd.read_csv(\"./data/Cópia de BASE INTELI_META_OCUP-limpo.csv\").\n",
        "\n",
        "Certifique-se de que os arquivos CSV estejam localizados no diretório correto em seu ambiente virtual. Por exemplo, se você tiver uma pasta chamada \"data\" no mesmo diretório do notebook, coloque os arquivos CSV nessa pasta e ajuste seus nomes. Possivelmente os arquivos vão seguir o seguinte padrão, mesmo no seu drive:\n",
        "\n",
        "df_metas = pd.read_csv(\"./data/dados_tratados/BASE INTELI_META-limpo.csv\")\n",
        "\n",
        "Salve as alterações no notebook.\n",
        "Agora você pode executar as células do notebook no VScode e as alterações nos arquivos e caminhos serão aplicadas ao seu ambiente do colab. Lembre-se de que você precisará ter as bibliotecas necessárias instaladas em seu ambiente local para executar o código corretamente:\n",
        "\n",
        "Para fazer a instalação, basta abrir o terminal integrado e inserir o seguinte:"
      ]
    },
    {
      "cell_type": "code",
      "execution_count": null,
      "metadata": {},
      "outputs": [],
      "source": [
        "#pip install pandas numpy"
      ]
    },
    {
      "cell_type": "markdown",
      "metadata": {},
      "source": [
        "## Importação e instalação de bibliotecas\n",
        "\n",
        "Primeiro importamos as bibliotecas necessárias para o projeto funcionar devidamente"
      ]
    },
    {
      "cell_type": "code",
      "execution_count": 3,
      "metadata": {
        "id": "pbCejOl7OUgG"
      },
      "outputs": [],
      "source": [
        "# from google.colab import drive\n",
        "# drive.mount('/content/drive')\n",
        "\n",
        "import numpy as np\n",
        "import pandas as pd\n",
        "\n",
        "pd.set_option('display.float_format', '{:.2f}'.format) # somente formatando número que casas para valores do tipo float"
      ]
    },
    {
      "cell_type": "markdown",
      "metadata": {
        "id": "QuqWrYKCNw8n"
      },
      "source": [
        "Feito isso, puxaremos as tabela do google drive (ou leia os comentário para usar localmente)"
      ]
    },
    {
      "cell_type": "code",
      "execution_count": 4,
      "metadata": {
        "colab": {
          "base_uri": "https://localhost:8080/"
        },
        "id": "RNtUu0beNRCe",
        "outputId": "a90a78ca-4116-45f9-e152-cab60324fe6f"
      },
      "outputs": [],
      "source": [
        "# adicione o caminho do arquivo no seu Google Drive caso use no colab\n",
        "# df_agosto = pd.read_csv(\"/content/drive/MyDrive/Primeiro Ano/Módulo 3 - Modelo Preditivo Gazeta/Base de Dados Limpas/tratada_BaseDados_ProjetoINTELI_RG_01_AGOSTO_2024.csv\")\n",
        "# df_metas = pd.read_csv(\"/content/drive/MyDrive/Primeiro Ano/Módulo 3 - Modelo Preditivo Gazeta/Base de Dados Limpas/BASE INTELI_META-limpo.csv\")\n",
        "\n",
        "# caso utilize localmente, primeiramente use o comando \"pip install pandas numpy\" no terminal da sua máquina.\n",
        "# depois, descomente o código abaixo e tudo deve funcionar, desde que os arquivos estejam na pasta \"./dadosTratados/nome-do-arquivo.tipo\"\n",
        "df_metas = pd.read_csv(\"../data/dados_tratados/BASE INTELI_META-limpo.csv\")\n",
        "df_agosto = pd.read_csv(\"../data/dados_tratados/tratada_BaseDados_ProjetoINTELI_RG_01_AGOSTO_2024.csv\")"
      ]
    },
    {
      "cell_type": "markdown",
      "metadata": {
        "id": "AqCJfToZOcem"
      },
      "source": [
        "Concluida ambas as etapas anteriores, vamos começar com a tabela \"tratada_BaseDados_ProjetoINTELI_RG_01_AGOSTO_2024\".\n",
        "\n",
        "Primeiro devemos criar um dataframe que contém a descrição estatística das colunas, assim podemos criar uma tabela com essas informações!"
      ]
    },
    {
      "cell_type": "code",
      "execution_count": null,
      "metadata": {
        "colab": {
          "base_uri": "https://localhost:8080/"
        },
        "id": "khBLUUQRO89t",
        "outputId": "29d33446-8138-4a4e-f3b3-890f1bab460d"
      },
      "outputs": [],
      "source": [
        "df_agosto_var = df_agosto.drop(columns=['Veiculo', 'Origem', 'UEN', 'Segmento', 'Cliente', 'Setor', 'CONCATENAR', 'Taxa Ac. TRI % PIB', 'Ano', 'Mês'])\n",
        "df_agosto_describe = df_agosto_var.describe()\n",
        "variancia = df_agosto_var.var()\n",
        "df_agosto_describe.loc['var'] = variancia\n",
        "print(df_agosto_describe)"
      ]
    },
    {
      "cell_type": "markdown",
      "metadata": {
        "id": "u0axNgjCTfiL"
      },
      "source": [
        "Agora vamos fazer para a tabela \"BASE INTELI_META_OCUP-limpo\""
      ]
    },
    {
      "cell_type": "code",
      "execution_count": null,
      "metadata": {
        "colab": {
          "base_uri": "https://localhost:8080/"
        },
        "id": "vTi8AS44TlMU",
        "outputId": "2d67bd36-4262-4a9e-f92f-809e2193a437"
      },
      "outputs": [],
      "source": [
        "df_metas_var = df_metas.drop(columns=['Uen', 'Ano', 'Mês'])\n",
        "df_metas_describe = df_metas_var.describe()\n",
        "variancia = df_metas_var.var()\n",
        "df_metas_describe.loc['var'] = variancia\n",
        "markdown_metas_describe = df_metas_describe.to_markdown(tablefmt=\"github\")\n",
        "print(df_metas_describe)"
      ]
    },
    {
      "cell_type": "markdown",
      "metadata": {},
      "source": [
        "|       |             Meta |   % Ating. Meta |\n",
        "|-------|------------------|-----------------|\n",
        "| count |    162           |     162         |\n",
        "| mean  |      2.35032e+06 |       1.08264   |\n",
        "| std   |      2.11445e+06 |       0.248071  |\n",
        "| min   | 317542           |       0.287     |\n",
        "| 25%   | 809239           |       0.985     |\n",
        "| 50%   |      1.127e+06   |       1.0885    |\n",
        "| 75%   |      4.45588e+06 |       1.215     |\n",
        "| max   |      7.39789e+06 |       2.151     |\n",
        "| var   |      4.47092e+12 |       0.0615391 |"
      ]
    },
    {
      "cell_type": "markdown",
      "metadata": {},
      "source": [
        "A fim de tornar a visualização mais um pouco mais fácil, iremos trocar o nome de cada linha para português, para podermos ler a tabela sem uma legenda."
      ]
    },
    {
      "cell_type": "code",
      "execution_count": null,
      "metadata": {},
      "outputs": [],
      "source": [
        "nomes_linhas = {\n",
        "    'count': 'quantidade',\n",
        "    'mean': 'média',\n",
        "    'std': 'desvio padrão',\n",
        "    'min': 'mínimo',\n",
        "    '25%': 'primeiro quartil',\n",
        "    '50%': 'segundo quartil/mediana',\n",
        "    '75%': 'terceiro quartil',\n",
        "    'max': 'máximo',\n",
        "    'var': 'variância'\n",
        "}\n",
        "\n",
        "df_metas_describe.rename(index=nomes_linhas, inplace=True)\n",
        "df_agosto_describe.rename(index=nomes_linhas, inplace=True)\n",
        "\n",
        "markdown_metas_describe = df_metas_describe.to_markdown(tablefmt=\"github\")\n",
        "print(markdown_metas_describe)\n",
        "markdown_agosto_describe = df_agosto_describe.to_markdown(tablefmt=\"github\")\n",
        "print(markdown_agosto_describe)"
      ]
    },
    {
      "cell_type": "markdown",
      "metadata": {},
      "source": [
        "|       |             Meta |   % Ating. Meta |\n",
        "|-------|------------------|-----------------|\n",
        "| count |    162           |     162         |\n",
        "| mean  |      2.35032e+06 |       1.08264   |\n",
        "| std   |      2.11445e+06 |       0.248071  |\n",
        "| min   | 317542           |       0.287     |\n",
        "| 25%   | 809239           |       0.985     |\n",
        "| 50%   |      1.127e+06   |       1.0885    |\n",
        "| 75%   |      4.45588e+06 |       1.215     |\n",
        "| max   |      7.39789e+06 |       2.151     |\n",
        "| var   |      4.47092e+12 |       0.0615391 |\n",
        "|                         |             Meta |   % Ating. Meta |\n",
        "|-------------------------|------------------|-----------------|\n",
        "| quantidade              |    162           |     162         |\n",
        "| média                   |      2.35032e+06 |       1.08264   |\n",
        "| desvio padrão           |      2.11445e+06 |       0.248071  |\n",
        "| mínimo                  | 317542           |       0.287     |\n",
        "| primeiro quartil        | 809239           |       0.985     |\n",
        "| segundo quartil/mediana |      1.127e+06   |       1.0885    |\n",
        "| terceiro quartil        |      4.45588e+06 |       1.215     |\n",
        "| máximo                  |      7.39789e+06 |       2.151     |\n",
        "| variância               |      4.47092e+12 |       0.0615391 |\n",
        "|                         |       VL Tabela |       Desconto R$ |        Desc % |        Vl Bruto |   Vl Liquido Final |      IPCA ES |      IPCA BR |   % Ating. Meta |\n",
        "|-------------------------|-----------------|-------------------|---------------|-----------------|--------------------|--------------|--------------|-----------------|\n",
        "| quantidade              | 55897           |   55897           | 55897         | 55897           |    55897           | 55897        | 55897        |    55897        |\n",
        "| média                   | 12966.5         |   -4000.15        |    -0.291874  |  8966.37        |     7404.68        |     0.527857 |     0.505216 |        1.15779  |\n",
        "| desvio padrão           | 40186.6         |   14954.6         |     0.238357  | 29796.6         |    23936.9         |     0.50199  |     0.451214 |        0.382875 |\n",
        "| mínimo                  |     1           | -812846           |    -0.99      |     1           |        0.51        |    -1.31     |    -0.68     |        0.137    |\n",
        "| primeiro quartil        |  1354.5         |   -2918.4         |    -0.5       |   875           |      765           |     0.18     |     0.24     |        0.957    |\n",
        "| segundo quartil/mediana |  3744.53        |    -824           |    -0.3       |  2394.4         |     2001.92        |     0.56     |     0.53     |        1.066    |\n",
        "| terceiro quartil        | 10000           |       0           |     0         |  6597.6         |     5530.56        |     0.86     |     0.84     |        1.242    |\n",
        "| máximo                  |     1.97471e+06 |       0           |     0         |     1.26078e+06 |        1.00863e+06 |     1.53     |     1.62     |        2.914    |\n",
        "| variância               |     1.61497e+09 |       2.23641e+08 |     0.0568142 |     8.87835e+08 |        5.72973e+08 |     0.251994 |     0.203595 |        0.146593 |"
      ]
    }
  ],
  "metadata": {
    "colab": {
      "provenance": []
    },
    "kernelspec": {
      "display_name": "Python 3",
      "name": "python3"
    },
    "language_info": {
      "codemirror_mode": {
        "name": "ipython",
        "version": 3
      },
      "file_extension": ".py",
      "mimetype": "text/x-python",
      "name": "python",
      "nbconvert_exporter": "python",
      "pygments_lexer": "ipython3",
      "version": "3.12.6"
    }
  },
  "nbformat": 4,
  "nbformat_minor": 0
}
