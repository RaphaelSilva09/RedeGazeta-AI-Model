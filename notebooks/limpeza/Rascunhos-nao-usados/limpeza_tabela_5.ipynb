{
  "cells": [
    {
      "cell_type": "markdown",
      "metadata": {
        "id": "Xa9z2r-h-oXL"
      },
      "source": [
        "# Limpeza da Tabela 5:\n",
        "## BaseDados_ProjetoINTELI_RG_31JUL24"
      ]
    },
    {
      "cell_type": "markdown",
      "metadata": {
        "id": "FY70Ezuw-1Kt"
      },
      "source": [
        "\n",
        "\n",
        "Importando as bibliotecas necessárias para a limpeza"
      ]
    },
    {
      "cell_type": "code",
      "execution_count": null,
      "metadata": {
        "id": "J1eKcSh8-5sr"
      },
      "outputs": [],
      "source": [
        "import matplotlib.pyplot as plt\n",
        "import numpy as np\n",
        "import pandas as pd"
      ]
    },
    {
      "cell_type": "markdown",
      "metadata": {
        "id": "a7xYnx_O_EpL"
      },
      "source": [
        "Importando a tabela do banco de dados no notebook"
      ]
    },
    {
      "cell_type": "code",
      "execution_count": null,
      "metadata": {
        "id": "fWhXMiVj_LLR"
      },
      "outputs": [],
      "source": [
        "tabela_5 = pd.read_excel(\"BaseDados_ProjetoINTELI_RG_31JUL24.xlsx\")"
      ]
    },
    {
      "cell_type": "markdown",
      "metadata": {
        "id": "_4dHRO2TEnQm"
      },
      "source": [
        "Vamos começar fazendo a estatística descritiva básica das colunas, separando elas em númericas e categóricas, com o seguinte comando abaixo"
      ]
    },
    {
      "cell_type": "code",
      "execution_count": null,
      "metadata": {
        "colab": {
          "base_uri": "https://localhost:8080/"
        },
        "id": "vnYddwJoE0PX",
        "outputId": "8b9ae58b-7c4c-4abd-fa06-d134f7a6c0d6"
      },
      "outputs": [],
      "source": [
        "colunas_categoricas = tabela_5.select_dtypes(include='object').columns\n",
        "colunas_numericas = tabela_5.drop(colunas_categoricas, axis=1).columns\n",
        "\n",
        "print(f'Há {len(colunas_categoricas)} Colunas Categóricas: {list(colunas_categoricas)}')\n",
        "print(f'Há {len(colunas_numericas)} Colunas Numéricas: {list(colunas_numericas)}')"
      ]
    },
    {
      "cell_type": "markdown",
      "metadata": {},
      "source": [
        "Assim, as colunas categóricas são:\n",
        " - UEN\n",
        " - Veiculo\n",
        " - Cliente\n",
        " - Origem\n",
        " - Segmento\n",
        " - Setor\n",
        "\n",
        "E as colunas numéricas são:\n",
        " - ano\n",
        " - Mês\n",
        " - VL Tabela\n",
        " - Desconto R$\n",
        " - Desc %\n",
        " - Vl Bruto\n",
        " - Vl Liquido Final"
      ]
    },
    {
      "cell_type": "markdown",
      "metadata": {
        "id": "MgBIFIDvFEjT"
      },
      "source": [
        "Após isso, vamos inciar a limpeza dos dados primeiramente procurando dados que estão ``null``, com os seguinte comando abaixo:"
      ]
    },
    {
      "cell_type": "code",
      "execution_count": null,
      "metadata": {
        "colab": {
          "base_uri": "https://localhost:8080/",
          "height": 492
        },
        "id": "DoIloSgPFVig",
        "outputId": "8c4a6652-3cba-4740-e07a-639b0197d2a7"
      },
      "outputs": [],
      "source": [
        "tabela_5.isnull().sum()"
      ]
    },
    {
      "cell_type": "markdown",
      "metadata": {
        "id": "U8l9ArWrFfqa"
      },
      "source": [
        "Conforme a tabela acima vimos que tem apenas dois dados que estão como ``null``, vamos agora visualizar essas linhas de código que estão como ``null``"
      ]
    },
    {
      "cell_type": "code",
      "execution_count": null,
      "metadata": {
        "colab": {
          "base_uri": "https://localhost:8080/",
          "height": 112
        },
        "id": "JepLUgtNFtIU",
        "outputId": "0162f06e-5e78-4dc3-d443-c519cb3667ec"
      },
      "outputs": [],
      "source": [
        "tabela_5[tabela_5.isnull().any(axis=1)]"
      ]
    },
    {
      "cell_type": "markdown",
      "metadata": {
        "id": "ypi7KNz7Fwqz"
      },
      "source": [
        "Após a análise vimos que podemos substituir esses ``null`` por '``OUTROS``', assim rodamos este código para isso"
      ]
    },
    {
      "cell_type": "code",
      "execution_count": null,
      "metadata": {
        "id": "oIRY3rHIF8iQ"
      },
      "outputs": [],
      "source": [
        "tabela_5[\"Setor\"] = tabela_5[\"Setor\"].replace(np.nan, 'OUTROS')"
      ]
    },
    {
      "cell_type": "markdown",
      "metadata": {
        "id": "DU1gF2CDLZRA"
      },
      "source": [
        "Agora vamos confirmar se os dados que estão como null foram alterados rotando o código que vemos quantos dados null temos na base"
      ]
    },
    {
      "cell_type": "code",
      "execution_count": null,
      "metadata": {
        "colab": {
          "base_uri": "https://localhost:8080/",
          "height": 492
        },
        "id": "VyIqGG8RLXan",
        "outputId": "b49f7830-24c1-4dde-d04b-c4e4d19741fe"
      },
      "outputs": [],
      "source": [
        "tabela_5.isnull().sum()"
      ]
    },
    {
      "cell_type": "markdown",
      "metadata": {
        "id": "ob19Qgf_NdzY"
      },
      "source": [
        "Então para seguir o processo de limpeza vamos padronizar algumas coisas nas colunas, primeiramente vamos deixar todos as palavras em maiúsculas"
      ]
    },
    {
      "cell_type": "code",
      "execution_count": null,
      "metadata": {
        "id": "7lEhdtleNZsM"
      },
      "outputs": [],
      "source": [
        "tabela_5[colunas_categoricas] = tabela_5[colunas_categoricas].apply(lambda x: x.str.upper())"
      ]
    },
    {
      "cell_type": "markdown",
      "metadata": {
        "id": "L3oyYDt5NzMU"
      },
      "source": [
        "E também vamos deixar as colunas numéricas com 3 algarismos significativos após a vírgula, exceto as colunas de data"
      ]
    },
    {
      "cell_type": "code",
      "execution_count": null,
      "metadata": {
        "id": "qaGuWk23OZlm"
      },
      "outputs": [],
      "source": [
        "colunas_numericas_sem_data = colunas_numericas.difference(['ano', 'Mês'])\n",
        "for coluna in colunas_numericas_sem_data:\n",
        "  tabela_5[coluna] = tabela_5[coluna].round(3)\n"
      ]
    },
    {
      "cell_type": "code",
      "execution_count": null,
      "metadata": {
        "colab": {
          "base_uri": "https://localhost:8080/",
          "height": 206
        },
        "id": "RnbPFmGOPQ59",
        "outputId": "cea7ddc2-edd5-40ec-ef64-74d6d85d755c"
      },
      "outputs": [],
      "source": [
        "tabela_5.head()"
      ]
    },
    {
      "cell_type": "markdown",
      "metadata": {
        "id": "fDn43EuMP1Of"
      },
      "source": [
        "Dessa forma, gero um novo arquivo excel com os dados limpos"
      ]
    },
    {
      "cell_type": "code",
      "execution_count": null,
      "metadata": {
        "id": "NizjYxjQP8DF"
      },
      "outputs": [],
      "source": [
        "tabela_5.to_csv('/dadosTratados/tratada_BaseDados_ProjetoINTELI_RG_31JUL24.csv', index=False)\n"
      ]
    }
  ],
  "metadata": {
    "colab": {
      "provenance": []
    },
    "kernelspec": {
      "display_name": "Python 3",
      "name": "python3"
    },
    "language_info": {
      "codemirror_mode": {
        "name": "ipython",
        "version": 3
      },
      "file_extension": ".py",
      "mimetype": "text/x-python",
      "name": "python",
      "nbconvert_exporter": "python",
      "pygments_lexer": "ipython3",
      "version": "3.12.5"
    }
  },
  "nbformat": 4,
  "nbformat_minor": 0
}
