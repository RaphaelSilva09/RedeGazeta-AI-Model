{
 "cells": [
  {
   "cell_type": "markdown",
   "metadata": {},
   "source": [
    "# Limpeza da tabela 6"
   ]
  },
  {
   "cell_type": "markdown",
   "metadata": {},
   "source": [
    "## DadosEconomicos_ES_Inteli"
   ]
  },
  {
   "cell_type": "markdown",
   "metadata": {},
   "source": [
    "Importa as bibliotecas pandas e numpy para utilizamos na análise"
   ]
  },
  {
   "cell_type": "code",
   "execution_count": 1301,
   "metadata": {},
   "outputs": [],
   "source": [
    "import pandas as pd\n",
    "import numpy as np"
   ]
  },
  {
   "cell_type": "markdown",
   "metadata": {},
   "source": [
    "Define a tabela como tabela_6  e lê ela para melhor visualização dos dados, separando ela nas abas correspondentes"
   ]
  },
  {
   "cell_type": "code",
   "execution_count": 1302,
   "metadata": {},
   "outputs": [],
   "source": [
    "tabela_6 = 'DadosEconomicos_ES_Inteli.xlsx'\n",
    "abas = pd.read_excel(tabela_6, sheet_name=None)\n",
    "\n",
    "# carrega todas as abas em um dicionário onde as chaves são os nomes das abas\n",
    "varejoTotal = abas['VarejoTotal']\n",
    "varejoAtividade = abas['VarejoAtividade']\n",
    "IPCA = abas['IPCA']\n",
    "PIB = abas['PIB']\n"
   ]
  },
  {
   "cell_type": "markdown",
   "metadata": {},
   "source": [
    "### Aba: VarejoTotal\n",
    "Nós vamos analisar cada aba da tabela de forma separada, para melhor entendimento de cada tabela. Para iniciar nossa análise, começamos com a aba de Varejo Total"
   ]
  },
  {
   "cell_type": "markdown",
   "metadata": {},
   "source": [
    "Na função abaixo nós conferimos se há valores nulos possíveis de ser retirados da página:"
   ]
  },
  {
   "cell_type": "code",
   "execution_count": null,
   "metadata": {},
   "outputs": [],
   "source": [
    "\n",
    "varejoTotal = varejoTotal.dropna()\n",
    "varejoTotal"
   ]
  },
  {
   "cell_type": "markdown",
   "metadata": {},
   "source": [
    "Através dessa função nós colocamos todas as informações em maiúsculo"
   ]
  },
  {
   "cell_type": "code",
   "execution_count": null,
   "metadata": {},
   "outputs": [],
   "source": [
    "varejoTotal = varejoTotal.map(lambda x: x.upper() if isinstance(x, str) else x)\n",
    "varejoTotal"
   ]
  },
  {
   "cell_type": "markdown",
   "metadata": {},
   "source": [
    "Através dessa função podemos separar a colouna \"mês\" que há os dados de ano, mês e dia em diferentes colunas"
   ]
  },
  {
   "cell_type": "code",
   "execution_count": null,
   "metadata": {},
   "outputs": [],
   "source": [
    "varejoTotal['Ano'] = pd.to_datetime(varejoTotal['Mês']).dt.year\n",
    "varejoTotal['Mês'] = pd.to_datetime(varejoTotal['Mês']).dt.month\n",
    "varejoTotal['Dia'] = pd.to_datetime(varejoTotal['Mês']).dt.day\n",
    "varejoTotal"
   ]
  },
  {
   "cell_type": "markdown",
   "metadata": {},
   "source": [
    "Aqui nós arredondamos os valores númericos para 3 casas decimais."
   ]
  },
  {
   "cell_type": "code",
   "execution_count": null,
   "metadata": {},
   "outputs": [],
   "source": [
    "varejoTotal['PMC - Número-índice (2022=100) (Número-índice)'] = varejoTotal['PMC - Número-índice (2022=100) (Número-índice)'].round(3)\n",
    "varejoTotal['PMC - Número-índice com ajuste sazonal (2022=100) (Número-índice)'] = varejoTotal['PMC - Número-índice com ajuste sazonal (2022=100) (Número-índice)'].round(3)\n",
    "varejoTotal"
   ]
  },
  {
   "cell_type": "markdown",
   "metadata": {},
   "source": [
    "Identificamos ainda se há valores ausentes:"
   ]
  },
  {
   "cell_type": "code",
   "execution_count": null,
   "metadata": {},
   "outputs": [],
   "source": [
    "valores_ausentes_por_coluna = varejoTotal.isnull().sum()\n",
    "\n",
    "print(valores_ausentes_por_coluna)"
   ]
  },
  {
   "cell_type": "markdown",
   "metadata": {},
   "source": [
    "Conferimos a classificação das colunas da tabela:"
   ]
  },
  {
   "cell_type": "code",
   "execution_count": null,
   "metadata": {},
   "outputs": [],
   "source": [
    "print (varejoTotal.dtypes)"
   ]
  },
  {
   "cell_type": "markdown",
   "metadata": {},
   "source": [
    "Definindo as colunas objects como categóricas:"
   ]
  },
  {
   "cell_type": "code",
   "execution_count": null,
   "metadata": {},
   "outputs": [],
   "source": [
    "varejoTotal['Tipos de índice'] = varejoTotal['Tipos de índice'].astype('category')\n",
    "varejoTotal['Brasil e Unidade da Federação'] = varejoTotal['Brasil e Unidade da Federação'].astype('category')\n",
    "varejoTotal['PMC - Variação mês/mês imediatamente anterior, com ajuste sazonal (M/M-1) (%)'] = varejoTotal['PMC - Variação mês/mês imediatamente anterior, com ajuste sazonal (M/M-1) (%)'].astype('category')\n",
    "print (varejoTotal.dtypes)\n"
   ]
  },
  {
   "cell_type": "markdown",
   "metadata": {},
   "source": [
    "Definindo as colunas que são float e int32 para numéricas:"
   ]
  },
  {
   "cell_type": "code",
   "execution_count": null,
   "metadata": {},
   "outputs": [],
   "source": [
    "varejoTotal['Mês'] = pd.to_numeric(varejoTotal['Mês'])\n",
    "varejoTotal['PMC - Número-índice (2022=100) (Número-índice)'] = pd.to_numeric(varejoTotal['PMC - Número-índice (2022=100) (Número-índice)'])\n",
    "varejoTotal['PMC - Número-índice com ajuste sazonal (2022=100) (Número-índice)'] = pd.to_numeric(varejoTotal['PMC - Número-índice com ajuste sazonal (2022=100) (Número-índice)'])\n",
    "varejoTotal['Ano'] = pd.to_numeric(varejoTotal['Ano'])\n",
    "varejoTotal['Dia'] = pd.to_numeric(varejoTotal['Dia'])\n",
    "print (varejoTotal.dtypes)"
   ]
  },
  {
   "cell_type": "markdown",
   "metadata": {},
   "source": [
    "Conferindo a coluna categórica que era para ser numérica"
   ]
  },
  {
   "cell_type": "code",
   "execution_count": null,
   "metadata": {},
   "outputs": [],
   "source": [
    "print(varejoTotal['PMC - Variação mês/mês imediatamente anterior, com ajuste sazonal (M/M-1) (%)'].unique())\n",
    "varejoTotal"
   ]
  },
  {
   "cell_type": "markdown",
   "metadata": {},
   "source": [
    "Passando o valor object da coluna para numérico:"
   ]
  },
  {
   "cell_type": "code",
   "execution_count": null,
   "metadata": {},
   "outputs": [],
   "source": [
    "varejoTotal['PMC - Variação mês/mês imediatamente anterior, com ajuste sazonal (M/M-1) (%)'] = pd.to_numeric(varejoTotal['PMC - Variação mês/mês imediatamente anterior, com ajuste sazonal (M/M-1) (%)'], errors='coerce')\n",
    "print(varejoTotal.dtypes)"
   ]
  },
  {
   "cell_type": "code",
   "execution_count": null,
   "metadata": {},
   "outputs": [],
   "source": [
    "varejoTotal"
   ]
  },
  {
   "cell_type": "markdown",
   "metadata": {},
   "source": [
    "Conferindo quantos valores que se tornaram nulos"
   ]
  },
  {
   "cell_type": "code",
   "execution_count": null,
   "metadata": {},
   "outputs": [],
   "source": [
    "print(varejoTotal['PMC - Variação mês/mês imediatamente anterior, com ajuste sazonal (M/M-1) (%)'].isna().sum())"
   ]
  },
  {
   "cell_type": "markdown",
   "metadata": {},
   "source": [
    "Removendo os valores nulos pois eles não irão ter um grande impacto no modelo:"
   ]
  },
  {
   "cell_type": "code",
   "execution_count": 1315,
   "metadata": {},
   "outputs": [],
   "source": [
    "varejoTotal = varejoTotal.dropna(subset=['PMC - Variação mês/mês imediatamente anterior, com ajuste sazonal (M/M-1) (%)'])"
   ]
  },
  {
   "cell_type": "markdown",
   "metadata": {},
   "source": [
    "Verificando o resultado final:"
   ]
  },
  {
   "cell_type": "code",
   "execution_count": null,
   "metadata": {},
   "outputs": [],
   "source": [
    "print (varejoTotal)"
   ]
  },
  {
   "cell_type": "markdown",
   "metadata": {},
   "source": [
    "Identificando quais são as colunas categóricas e quais são as numéricas:"
   ]
  },
  {
   "cell_type": "code",
   "execution_count": null,
   "metadata": {},
   "outputs": [],
   "source": [
    "colunas_categoricas_varejoTotal = varejoTotal.select_dtypes(include=['category', 'object']).columns\n",
    "colunas_numericas_varejoTotal = varejoTotal.select_dtypes(include=['number']).columns\n",
    "\n",
    "print(\"Colunas categóricas:\", colunas_categoricas_varejoTotal)\n",
    "print(\"Colunas numéricas:\", colunas_numericas_varejoTotal)"
   ]
  },
  {
   "cell_type": "markdown",
   "metadata": {},
   "source": [
    "Assim, as colunas númericas são:\n",
    "* Mês\n",
    "* PMC - Número-índice (2022=100) (Número-índice)\n",
    "* PMC - Número-índice com ajuste sazonal (2022=100) (Número-índice)\n",
    "* PMC - Variação mês/mês imediatamente anterior, com ajuste sazonal (M/M-1) (%)\n",
    "* Ano\n",
    "* Dia\n",
    "\n",
    "E as colunas categóricas são:\n",
    "* Tipos de índice\n",
    "* Brasil e Unidade da Federação"
   ]
  },
  {
   "cell_type": "markdown",
   "metadata": {},
   "source": [
    "### Aba: VarejoAtividade\n",
    "Assim como na limpeza acima, vamos realizar o mesmo processo para limpar a aba Varejo Atividade."
   ]
  },
  {
   "cell_type": "markdown",
   "metadata": {},
   "source": [
    "Começamos a análise, tirando os valores nulos se existentes:"
   ]
  },
  {
   "cell_type": "code",
   "execution_count": null,
   "metadata": {},
   "outputs": [],
   "source": [
    "varejoAtividade = varejoAtividade.dropna()\n",
    "varejoAtividade"
   ]
  },
  {
   "cell_type": "markdown",
   "metadata": {},
   "source": [
    "Logo após, para tornar todas as tabelas padrões, colocamos todos os textos em maiúsculo:"
   ]
  },
  {
   "cell_type": "code",
   "execution_count": null,
   "metadata": {},
   "outputs": [],
   "source": [
    "varejoAtividade = varejoAtividade.map(lambda x: x.upper() if isinstance(x, str) else x)\n",
    "varejoAtividade"
   ]
  },
  {
   "cell_type": "markdown",
   "metadata": {},
   "source": [
    "Nessa aba, também temos a coluna mês que contem além do mês, o dia e o ano, portanto vamos separar assim como na limpeza acima:"
   ]
  },
  {
   "cell_type": "code",
   "execution_count": null,
   "metadata": {},
   "outputs": [],
   "source": [
    "varejoAtividade['Ano'] = pd.to_datetime(varejoAtividade['Mês']).dt.year\n",
    "varejoAtividade['Mês'] = pd.to_datetime(varejoAtividade['Mês']).dt.month\n",
    "varejoAtividade['Dia'] = pd.to_datetime(varejoAtividade['Mês']).dt.day\n",
    "varejoAtividade"
   ]
  },
  {
   "cell_type": "markdown",
   "metadata": {},
   "source": [
    "Logo em seguida, analisamos quais são os tipos descritivos dos dados, e se necessário iremos alterar para ficar condizente com o correto."
   ]
  },
  {
   "cell_type": "code",
   "execution_count": null,
   "metadata": {},
   "outputs": [],
   "source": [
    "print(varejoAtividade.dtypes)"
   ]
  },
  {
   "cell_type": "markdown",
   "metadata": {},
   "source": [
    "Definimos as colunas objects que estão corretas como categóricas:"
   ]
  },
  {
   "cell_type": "code",
   "execution_count": null,
   "metadata": {},
   "outputs": [],
   "source": [
    "varejoAtividade['Tipos de índice'] = varejoAtividade['Tipos de índice'].astype('category')\n",
    "varejoAtividade['Brasil e Unidade da Federação'] = varejoAtividade['Brasil e Unidade da Federação'].astype('category')\n",
    "varejoAtividade['Atividades'] = varejoAtividade['Atividades'].astype('category')\n",
    "print (varejoAtividade.dtypes)\n"
   ]
  },
  {
   "cell_type": "markdown",
   "metadata": {},
   "source": [
    "Agora, vamos passar os valores objects que eram para ser números para valores numéricos, e os valores que não são passíveis de conversão são substituidos pelo valor zero."
   ]
  },
  {
   "cell_type": "code",
   "execution_count": null,
   "metadata": {},
   "outputs": [],
   "source": [
    "colunas_para_converter = ['PMC - Número-índice (2022=100) (Número-índice)', 'PMC - Número-índice com ajuste sazonal (2022=100) (Número-índice)', 'PMC - Variação mês/mês imediatamente anterior, com ajuste sazonal (M/M-1) (%)']\n",
    "\n",
    "for col in colunas_para_converter:\n",
    "    varejoAtividade[col] = pd.to_numeric(varejoAtividade[col], errors='coerce').fillna(0)\n",
    "varejoAtividade"
   ]
  },
  {
   "cell_type": "markdown",
   "metadata": {},
   "source": [
    "Conferindo novamente como ficou a classificação das colunas:"
   ]
  },
  {
   "cell_type": "code",
   "execution_count": null,
   "metadata": {},
   "outputs": [],
   "source": [
    "print (varejoAtividade.dtypes)"
   ]
  },
  {
   "cell_type": "markdown",
   "metadata": {},
   "source": [
    "Agora que tudo já está correto, identificamos da forma correta quais são as colunas categóricas e quais são as numéricas:"
   ]
  },
  {
   "cell_type": "code",
   "execution_count": null,
   "metadata": {},
   "outputs": [],
   "source": [
    "colunas_categoricas_varejoAtividade = varejoAtividade.select_dtypes(include=['category', 'object']).columns\n",
    "colunas_numericas_varejoAtividade = varejoAtividade.select_dtypes(include=['number']).columns\n",
    "\n",
    "print(\"Colunas categóricas:\", colunas_categoricas_varejoAtividade)\n",
    "print(\"Colunas numéricas:\", colunas_numericas_varejoAtividade)"
   ]
  },
  {
   "cell_type": "markdown",
   "metadata": {},
   "source": [
    "Assim, as colunas númericas são:\n",
    "* Mês\n",
    "* PMC - Número-índice (2022=100) (Número-índice)\n",
    "* PMC - Número-índice com ajuste sazonal (2022=100) (Número-índice)\n",
    "* PMC - Variação mês/mês imediatamente anterior, com ajuste sazonal (M/M-1) (%)\n",
    "* Ano\n",
    "* Dia\n",
    "\n",
    "E as colunas categóricas são:\n",
    "* Tipos de índice\n",
    "* Brasil e Unidade da Federação\n",
    "* Atividades"
   ]
  },
  {
   "cell_type": "markdown",
   "metadata": {},
   "source": [
    "### Aba: IPCA\n",
    "Assim como na limpeza acima, vamos realizar o mesmo processo para limpar a aba de IPCA."
   ]
  },
  {
   "cell_type": "code",
   "execution_count": null,
   "metadata": {},
   "outputs": [],
   "source": [
    "IPCA"
   ]
  },
  {
   "cell_type": "markdown",
   "metadata": {},
   "source": [
    "Primeiro, vamos começar conferindo a tabela removendo as colunas os valores nulos"
   ]
  },
  {
   "cell_type": "code",
   "execution_count": null,
   "metadata": {},
   "outputs": [],
   "source": [
    "IPCA = IPCA.dropna(axis=1, how='all')\n",
    "IPCA = IPCA.drop(columns=['Unnamed: 6', 'Unnamed: 7', 'Unnamed: 8', 'Unnamed: 9', 'Unnamed: 10', 'Unnamed: 11', 'Unnamed: 12', 'Unnamed: 13', 'Unnamed: 14', 'Unnamed: 15', 'Unnamed: 16', 'Unnamed: 17', 'Unnamed: 18'])\n",
    "IPCA"
   ]
  },
  {
   "cell_type": "markdown",
   "metadata": {},
   "source": [
    "Agora vamos separar as datas que estão juntas na coluna mês, nós vamos passar elas para diferente colunas de mês, ano e dia."
   ]
  },
  {
   "cell_type": "code",
   "execution_count": null,
   "metadata": {},
   "outputs": [],
   "source": [
    "IPCA['Ano'] = pd.to_datetime(IPCA['Mês']).dt.year\n",
    "IPCA['Mês'] = pd.to_datetime(IPCA['Mês']).dt.month\n",
    "IPCA['Dia'] = pd.to_datetime(IPCA['Mês']).dt.day\n",
    "IPCA"
   ]
  },
  {
   "cell_type": "markdown",
   "metadata": {},
   "source": [
    "Agora, vamos separar a coluna \"Geral, grupo e subgrupo\""
   ]
  },
  {
   "cell_type": "code",
   "execution_count": null,
   "metadata": {},
   "outputs": [],
   "source": [
    "def is_numeric(x):\n",
    "    try:\n",
    "        int(x.split('.')[0])\n",
    "        return True\n",
    "    except ValueError:\n",
    "        return False\n",
    "\n",
    "IPCA = IPCA[IPCA['Geral, grupo, subgrupo'].apply(is_numeric)].copy()\n",
    "\n",
    "IPCA[['Geral', 'Nome']] = IPCA['Geral, grupo, subgrupo'].str.split('.', n=1, expand=True)\n",
    "IPCA.loc[:, 'Geral'] = IPCA['Geral'].astype(int)\n",
    "IPCA.loc[:, 'Grupo'] = IPCA.apply(lambda row: row['Nome'] if len(str(row['Geral'])) == 1 else None, axis=1)\n",
    "IPCA.loc[:, 'Grupo'] = IPCA['Grupo'].ffill()\n",
    "IPCA.loc[:, 'Subgrupo'] = IPCA.apply(lambda row: row['Nome'] if len(str(row['Geral'])) > 1 else None, axis=1)\n",
    "IPCA = IPCA.drop(columns=['Nome', 'Geral, grupo, subgrupo'])\n",
    "IPCA = IPCA[['Ano', 'Mês', 'Dia', 'Unidade territorial', 'Grupo', 'Subgrupo', 'Geral', 'IPCA - Percentual no mês (Percentual)']]\n",
    "\n",
    "IPCA['Geral'] = IPCA['Geral'].astype(str)\n",
    "IPCA['Geral'] = IPCA['Geral'].str.replace(r'^(\\d{1})(\\d{1})$', r'\\1.\\2', regex=True)\n",
    "\n",
    "IPCA"
   ]
  },
  {
   "cell_type": "markdown",
   "metadata": {},
   "source": [
    "Conferindo agora qual o tipo de cada dado"
   ]
  },
  {
   "cell_type": "code",
   "execution_count": null,
   "metadata": {},
   "outputs": [],
   "source": [
    "print(IPCA.dtypes)"
   ]
  },
  {
   "cell_type": "markdown",
   "metadata": {},
   "source": [
    "Alterando os valores errados e passando o tipo objeto para categórico:"
   ]
  },
  {
   "cell_type": "code",
   "execution_count": null,
   "metadata": {},
   "outputs": [],
   "source": [
    "IPCA['Geral'] = pd.to_numeric(IPCA['Geral'])\n",
    "IPCA['Unidade territorial'] = IPCA['Unidade territorial'].astype('category')\n",
    "IPCA['Grupo'] = IPCA['Grupo'].astype('category')\n",
    "IPCA['Subgrupo'] = IPCA['Subgrupo'].astype('category')\n",
    "print (IPCA.dtypes)"
   ]
  },
  {
   "cell_type": "markdown",
   "metadata": {},
   "source": [
    "Agora que finalizamos a limpeza da tabela, podemos definir o que é categórico e o que é numérico:"
   ]
  },
  {
   "cell_type": "code",
   "execution_count": null,
   "metadata": {},
   "outputs": [],
   "source": [
    "colunas_categoricas_IPCA = IPCA.select_dtypes(include=['category', 'object']).columns\n",
    "colunas_numericas_IPCA = IPCA.select_dtypes(include=['number']).columns\n",
    "\n",
    "print(\"Colunas numéricas:\", colunas_numericas_IPCA)\n",
    "print(\"Colunas categóricas:\", colunas_categoricas_IPCA)"
   ]
  },
  {
   "cell_type": "markdown",
   "metadata": {},
   "source": [
    "Assim, as colunas númericas são:\n",
    "* Mês\n",
    "* IPCA - Percentual no mês (Percentual)\n",
    "* Ano\n",
    "* Dia\n",
    "* Geral\n",
    "\n",
    "E as colunas categóricas são:\n",
    "* Unidade territorial\n",
    "* Grupo\n",
    "* Subgrupo"
   ]
  },
  {
   "cell_type": "markdown",
   "metadata": {},
   "source": [
    "### Aba: PIB\n",
    "Assim como na limpeza acima, vamos realizar o mesmo processo para limpar a aba de PIB:"
   ]
  },
  {
   "cell_type": "code",
   "execution_count": null,
   "metadata": {},
   "outputs": [],
   "source": [
    "PIB"
   ]
  },
  {
   "cell_type": "markdown",
   "metadata": {},
   "source": [
    "Arrumando a tabela:"
   ]
  },
  {
   "cell_type": "code",
   "execution_count": null,
   "metadata": {},
   "outputs": [],
   "source": [
    "PIB = PIB.drop(0)\n",
    "PIB = PIB.rename(columns={'Gráfico 1 - Série dessazonalizada (Base 2002=100)': 'Espírito Santo'})\n",
    "PIB = PIB.rename(columns={'Unnamed: 2': 'Brasil'})\n",
    "PIB = PIB.rename(columns={'Unnamed: 0': 'Ano/Período'})\n",
    "PIB"
   ]
  },
  {
   "cell_type": "markdown",
   "metadata": {},
   "source": [
    "Separando a coluna Ano/Período para ter uma melhor visualização:"
   ]
  },
  {
   "cell_type": "code",
   "execution_count": null,
   "metadata": {},
   "outputs": [],
   "source": [
    "PIB[['Ano', 'Período do ano']] = PIB['Ano/Período'].str.split('.', expand=True)\n",
    "PIB = PIB.drop(columns=['Ano/Período'])\n",
    "PIB = PIB[['Ano', 'Período do ano', 'Brasil', 'Espírito Santo']]\n",
    "PIB"
   ]
  },
  {
   "cell_type": "markdown",
   "metadata": {},
   "source": [
    "Agora, vamos alterar o tipo do período do ano, porque está em letras e queremos que fique em número para melhor visualizar os dados"
   ]
  },
  {
   "cell_type": "code",
   "execution_count": null,
   "metadata": {},
   "outputs": [],
   "source": [
    "letra_para_numeros = {\n",
    "    'I': 1,\n",
    "    'II': 2,\n",
    "    'III': 3,\n",
    "    'IV': 4,\n",
    "}\n",
    "\n",
    "PIB['Período do ano'] = PIB['Período do ano'].map(letra_para_numeros)\n",
    "PIB"
   ]
  },
  {
   "cell_type": "markdown",
   "metadata": {},
   "source": [
    "Agora que já realizamos a limpeza dos dados, vamos classificar e arrumar o tipo de cada um:"
   ]
  },
  {
   "cell_type": "code",
   "execution_count": null,
   "metadata": {},
   "outputs": [],
   "source": [
    "print(PIB.dtypes)"
   ]
  },
  {
   "cell_type": "code",
   "execution_count": null,
   "metadata": {},
   "outputs": [],
   "source": [
    "PIB['Ano'] = pd.to_numeric(PIB['Ano'])\n",
    "print(PIB.dtypes)"
   ]
  },
  {
   "cell_type": "markdown",
   "metadata": {},
   "source": [
    "Agora, dividindo os tipos:"
   ]
  },
  {
   "cell_type": "code",
   "execution_count": null,
   "metadata": {},
   "outputs": [],
   "source": [
    "colunas_categoricas_PIB = PIB.select_dtypes(include=['category', 'object']).columns\n",
    "colunas_numericas_PIB = PIB.select_dtypes(include=['number']).columns\n",
    "\n",
    "print(\"Colunas numéricas:\", colunas_numericas_PIB)\n",
    "print(\"Colunas categóricas:\", colunas_categoricas_PIB)"
   ]
  },
  {
   "cell_type": "markdown",
   "metadata": {},
   "source": [
    "Assim, as colunas númericas são:\n",
    "* Ano\n",
    "* Período do ano\n",
    "\n",
    "E as colunas categóricas são:\n",
    "* Brasil\n",
    "* Espírito Santo"
   ]
  }
 ],
 "metadata": {
  "kernelspec": {
   "display_name": "Python 3",
   "language": "python",
   "name": "python3"
  },
  "language_info": {
   "codemirror_mode": {
    "name": "ipython",
    "version": 3
   },
   "file_extension": ".py",
   "mimetype": "text/x-python",
   "name": "python",
   "nbconvert_exporter": "python",
   "pygments_lexer": "ipython3",
   "version": "3.12.5"
  }
 },
 "nbformat": 4,
 "nbformat_minor": 2
}
