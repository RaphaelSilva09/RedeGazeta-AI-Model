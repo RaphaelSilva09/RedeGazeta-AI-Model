{
  "cells": [
    {
      "cell_type": "markdown",
      "metadata": {
        "colab_type": "text",
        "id": "view-in-github"
      },
      "source": [
        "<a href=\"https://colab.research.google.com/github/AndreLobo1/Aprimoramento/blob/main/limpeza_tabela_1.ipynb\" target=\"_parent\"><img src=\"https://colab.research.google.com/assets/colab-badge.svg\" alt=\"Open In Colab\"/></a>"
      ]
    },
    {
      "cell_type": "markdown",
      "metadata": {
        "id": "qBpkAeDOMTL2"
      },
      "source": [
        "Carregar a biblioteca pandas"
      ]
    },
    {
      "cell_type": "code",
      "execution_count": null,
      "metadata": {
        "id": "V-Saj-V2MY4r"
      },
      "outputs": [],
      "source": [
        "import pandas as pd"
      ]
    },
    {
      "cell_type": "markdown",
      "metadata": {
        "id": "bXHbgIfQzNp-"
      },
      "source": [
        "Importa o arquivo"
      ]
    },
    {
      "cell_type": "code",
      "execution_count": null,
      "metadata": {
        "id": "aCesWbXiMekG"
      },
      "outputs": [],
      "source": [
        "file_path = '/content/drive/MyDrive/AUDIENCIA_07_08_2024_COMPLETA.csv'\n",
        "df = pd.read_csv(file_path)"
      ]
    },
    {
      "cell_type": "markdown",
      "metadata": {
        "id": "Lz3PHnVJyQAh"
      },
      "source": [
        "Verificação de missing values: Não foram encontrados missing values na tabela, portanto, não é necessário realizar nenhum tratamento adicional.\n",
        "\n",
        "\n",
        "\n",
        "\n",
        "\n",
        "\n"
      ]
    },
    {
      "cell_type": "code",
      "execution_count": null,
      "metadata": {
        "colab": {
          "base_uri": "https://localhost:8080/"
        },
        "id": "kbfro68RyQPx",
        "outputId": "c5ec5db0-a3dc-4d28-ff4a-53801a761aff"
      },
      "outputs": [],
      "source": [
        "missing_values = df.isnull().sum()\n",
        "print(\"Missing values por coluna:\")\n",
        "print(missing_values[missing_values > 0])"
      ]
    },
    {
      "cell_type": "markdown",
      "metadata": {
        "id": "KG6SflWPMuzd"
      },
      "source": [
        "Criar um dicionário para mapear os meses em português para números\n"
      ]
    },
    {
      "cell_type": "code",
      "execution_count": null,
      "metadata": {
        "id": "64_ol9H7MyVh"
      },
      "outputs": [],
      "source": [
        "meses = {\n",
        "    'jan.': 1, 'fev.': 2, 'mar.': 3, 'abr.': 4,\n",
        "    'mai.': 5, 'jun.': 6, 'jul.': 7, 'ago.': 8,\n",
        "    'set.': 9, 'out.': 10, 'nov.': 11, 'dez.': 12\n",
        "}"
      ]
    },
    {
      "cell_type": "markdown",
      "metadata": {
        "id": "7r2oKjvmM1Mj"
      },
      "source": [
        "Separar a coluna \"PERIODO\" em \"ANO\" e \"MÊS\"*\n"
      ]
    },
    {
      "cell_type": "code",
      "execution_count": null,
      "metadata": {
        "id": "jyJwOMQHM672"
      },
      "outputs": [],
      "source": [
        "df['ANO'] = df['PERIODO'].apply(lambda x: '20' + x.split('-')[1])\n",
        "df['MÊS'] = df['PERIODO'].apply(lambda x: meses[x.split('-')[0]])"
      ]
    },
    {
      "cell_type": "markdown",
      "metadata": {
        "id": "MYDgJNdg0ISJ"
      },
      "source": [
        "Elimina a coluna 'PERIODO'"
      ]
    },
    {
      "cell_type": "code",
      "execution_count": null,
      "metadata": {
        "id": "TU_hB7jJND6p"
      },
      "outputs": [],
      "source": [
        "df = df.drop(columns=['PERIODO'])"
      ]
    },
    {
      "cell_type": "markdown",
      "metadata": {
        "id": "OeFEdBmOCBbW"
      },
      "source": [
        "Reordenar as colunas para que \"ANO\" e \"MÊS\" sejam as primeiras"
      ]
    },
    {
      "cell_type": "code",
      "execution_count": null,
      "metadata": {
        "id": "UTd11sWKCBjI"
      },
      "outputs": [],
      "source": [
        "colunas = ['ANO', 'MÊS'] + [col for col in df.columns if col not in ['ANO', 'MÊS']]\n",
        "df = df[colunas]"
      ]
    },
    {
      "cell_type": "markdown",
      "metadata": {
        "id": "RCQFW35S3Z3k"
      },
      "source": [
        "Verificar tipos de dados das colunas e se existem colunas que precisam ser convertidas\n"
      ]
    },
    {
      "cell_type": "code",
      "execution_count": null,
      "metadata": {
        "colab": {
          "base_uri": "https://localhost:8080/"
        },
        "id": "F3TNGag53aUY",
        "outputId": "675e7b84-6f9e-468e-903f-0c5f0214a343"
      },
      "outputs": [],
      "source": [
        "print(\"Tipos de dados antes da conversão:\")\n",
        "print(df.dtypes)\n",
        "\n",
        "colunas_para_converter = df.select_dtypes(include=['object']).columns\n",
        "print(\"Colunas para converter para numérico:\", list(colunas_para_converter))"
      ]
    },
    {
      "cell_type": "markdown",
      "metadata": {
        "id": "amK17RvJzoOM"
      },
      "source": [
        "As colunas numéricas são:\n",
        "\n",
        "- MÊS\n",
        "- TV GAZETA\n",
        "- GAZETA FM VITÓRIA   \n",
        "- LITORAL FM          \n",
        "- CBN VITORIA         \n",
        "- RÁDIO MIX VITÓRIA  \n",
        "\n",
        "Colunas que necessitam de tratamento para numérico:\n",
        "\n",
        "- ANO\n",
        "- INTERNET\n",
        "- PORTAL G1/GE/HOME"
      ]
    },
    {
      "cell_type": "markdown",
      "metadata": {
        "id": "UZOnn-9mNGkd"
      },
      "source": [
        "Converter colunas 'INTERNET' e 'PORTAL G1/GE/HOME' para numérico: Função para remover separadores de milhar e converter para numérico\n"
      ]
    },
    {
      "cell_type": "code",
      "execution_count": null,
      "metadata": {
        "id": "l3vgHljcNKdl"
      },
      "outputs": [],
      "source": [
        "def converter_para_numerico(valor):\n",
        "    if isinstance(valor, str):\n",
        "        valor = valor.replace('.', '')\n",
        "        valor = valor.replace(',', '.')\n",
        "        return pd.to_numeric(valor, errors='coerce')\n",
        "    return valor"
      ]
    },
    {
      "cell_type": "markdown",
      "metadata": {
        "id": "784Hou_yNOyh"
      },
      "source": [
        "Aplicar a função de conversão nas colunas \"INTERNET\" e \"PORTAL G1/GE/HOME\"\n"
      ]
    },
    {
      "cell_type": "code",
      "execution_count": null,
      "metadata": {
        "id": "K1UwKya1NUtg"
      },
      "outputs": [],
      "source": [
        "df['INTERNET'] = df['INTERNET'].apply(converter_para_numerico)\n",
        "df['PORTAL G1/GE/HOME'] = df['PORTAL G1/GE/HOME'].apply(converter_para_numerico)"
      ]
    },
    {
      "cell_type": "markdown",
      "metadata": {
        "id": "TlxeOHqyNVwk"
      },
      "source": [
        "Converter a coluna \"ANO\" para numérico: Agora todas as colunas são numéricas."
      ]
    },
    {
      "cell_type": "code",
      "execution_count": null,
      "metadata": {
        "id": "nHp2ePtnNbr0"
      },
      "outputs": [],
      "source": [
        "df['ANO'] = pd.to_numeric(df['ANO'], errors='coerce')"
      ]
    },
    {
      "cell_type": "markdown",
      "metadata": {
        "id": "1cAnXLY3Ndu0"
      },
      "source": [
        "Identificar colunas categóricas e numéricas"
      ]
    },
    {
      "cell_type": "code",
      "execution_count": null,
      "metadata": {
        "colab": {
          "base_uri": "https://localhost:8080/"
        },
        "id": "q_YnPX0INg_1",
        "outputId": "5f9f8d73-d43b-400e-a41a-00dafc0cf6ef"
      },
      "outputs": [],
      "source": [
        "colunas_categoricas = df.select_dtypes(include='object').columns\n",
        "colunas_numericas = df.drop(colunas_categoricas, axis=1).columns\n",
        "\n",
        "print(f'Há {len(colunas_categoricas)} Colunas Categóricas: {list(colunas_categoricas)}')\n",
        "print(f'Há {len(colunas_numericas)} Colunas Numéricas: {list(colunas_numericas)}')\n"
      ]
    },
    {
      "cell_type": "markdown",
      "metadata": {
        "id": "uE08ilotglrj"
      },
      "source": [
        "Identificar outliers: Os outliers identificados estão corretos, não sendo necessário nenhum tratamento adicional"
      ]
    },
    {
      "cell_type": "code",
      "execution_count": null,
      "metadata": {
        "colab": {
          "base_uri": "https://localhost:8080/"
        },
        "id": "MsMpVWt8gl84",
        "outputId": "2ae920eb-e629-4c03-bfd9-48d3339b4660"
      },
      "outputs": [],
      "source": [
        "Q1 = df[colunas_numericas].quantile(0.25)\n",
        "Q3 = df[colunas_numericas].quantile(0.75)\n",
        "IQR = Q3 - Q1\n",
        "\n",
        "outliers = ((df[colunas_numericas] < (Q1 - 1.5 * IQR)) | (df[colunas_numericas] > (Q3 + 1.5 * IQR)))\n",
        "\n",
        "outlier_counts = outliers.sum()\n",
        "print(\"Outliers por coluna:\")\n",
        "print(outlier_counts[outlier_counts > 0])\n",
        "\n",
        "for coluna in outlier_counts[outlier_counts > 0].index:\n",
        "    print(f\"\\nOutliers na coluna '{coluna}':\")\n",
        "    print(df.loc[outliers[coluna], coluna])"
      ]
    },
    {
      "cell_type": "markdown",
      "metadata": {
        "id": "4pufeYLDNhvX"
      },
      "source": [
        "Arredondar os valores numéricos para 3 casas decimais\n"
      ]
    },
    {
      "cell_type": "code",
      "execution_count": null,
      "metadata": {
        "id": "-JJASooSfQ4w"
      },
      "outputs": [],
      "source": [
        "df[colunas_numericas] = df[colunas_numericas].round(3)"
      ]
    },
    {
      "cell_type": "markdown",
      "metadata": {
        "id": "48SKy63KN0eC"
      },
      "source": [
        "Exibir as primeiras linhas para verificar a limpeza"
      ]
    },
    {
      "cell_type": "code",
      "execution_count": null,
      "metadata": {
        "colab": {
          "base_uri": "https://localhost:8080/"
        },
        "id": "bPpFlOGuN5S5",
        "outputId": "202944cb-5d72-43a8-b05f-b5e13c6eee25"
      },
      "outputs": [],
      "source": [
        "print(\"Primeiras linhas após a reordenação das colunas:\")\n",
        "print(df.head())"
      ]
    },
    {
      "cell_type": "code",
      "execution_count": null,
      "metadata": {
        "id": "d-16jk9FyJF-"
      },
      "outputs": [],
      "source": []
    }
  ],
  "metadata": {
    "colab": {
      "authorship_tag": "ABX9TyMUBEeRu4FK3DVUqCVMdzEE",
      "include_colab_link": true,
      "mount_file_id": "1D6EWGTZjY08paLFBFMQiOzWU5z5Zdnu0",
      "provenance": []
    },
    "kernelspec": {
      "display_name": "Python 3",
      "name": "python3"
    },
    "language_info": {
      "name": "python",
      "version": "3.12.5"
    }
  },
  "nbformat": 4,
  "nbformat_minor": 0
}
