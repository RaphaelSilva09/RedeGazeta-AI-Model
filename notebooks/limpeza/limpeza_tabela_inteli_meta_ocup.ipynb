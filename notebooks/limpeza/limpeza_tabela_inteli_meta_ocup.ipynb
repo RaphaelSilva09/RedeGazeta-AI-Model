{
  "cells": [
    {
      "cell_type": "markdown",
      "metadata": {
        "id": "IvIFeDwUCt_T"
      },
      "source": [
        "# Limpeza da Tabela 2:\n",
        "## BASE INTELI_META_OCUP\n",
        "\n"
      ]
    },
    {
      "cell_type": "markdown",
      "metadata": {},
      "source": [
        "### Instruções para uso local ou remoto (Google Colab ou VScode)\n",
        "\n",
        "Aqui deixaremos brevemente um passo a passo para que você usuário seja capaz de executar o código localmente ou remotamente pelo seu google drive, podendo escolher a forma mais viável para seu uso e conhecimento."
      ]
    },
    {
      "cell_type": "markdown",
      "metadata": {},
      "source": [
        "##### Google Colab\n",
        "\n",
        "1. Faça o upload do seu arquivo .ipynb para o Google Drive.\n",
        "2. Abra o Google Colab em seu navegador.\n",
        "3. Clique em \"Arquivo\" no menu superior e selecione \"Abrir notebook\".\n",
        "4. Na guia \"Upload\", clique em \"Procurar\" e selecione o arquivo .ipynb que você enviou para o Google Drive.\n",
        "5. Após selecionar o arquivo, clique em \"Abrir\".\n",
        "6. Aguarde o carregamento do notebook no Google Colab.\n",
        "7. Agora que você carregou o notebook no Google Colab, você pode fazer as alterações necessárias nos arquivos e caminhos para se adequar ao seu ambiente específico.\n",
        "\n",
        "No notebook, a célula seguinte à essa contém as leituras dos arquivos CSV com o caminho do drive do criador desse notebook.\n",
        "Comente as linhas que fazem referência aos arquivos locais e descomente as linhas que fazem referência ao Google Drive. Por exemplo:\n",
        "\n",
        "- descomente as linhas que começam com # from google.colab import drive;\n",
        "- comente as linhas que começam com tabela_Meta = pd.read_csv(\"./data/Cópia de BASE INTELI_META_OCUP-limpo.csv\").\n",
        "\n",
        "Certifique-se de que os arquivos CSV estejam localizados no diretório correto em seu ambiente virtual. Por exemplo, se você tiver uma pasta chamada \"data\" no mesmo diretório do notebook, coloque os arquivos CSV nessa pasta e ajuste seus nomes. Possivelmente os arquivos vão seguir o seguinte padrão, mesmo no seu drive:\n",
        "\n",
        "tabela_Meta = pd.read_csv(\"/content/drive/MyDrive/NomeDaPastaDosArquivos/arquivo.csv)\n",
        "\n",
        "Salve as alterações no notebook.\n",
        "Agora você pode executar as células do notebook no Google Colab e as alterações nos arquivos e caminhos serão aplicadas ao seu ambiente do colab. Lembre-se de que você não precisará ter as bibliotecas necessárias instaladas em seu ambiente local para executar o código corretamente, dado que ao executar pela ferramenta do google essas dependências estarão aplicadas por padrão"
      ]
    },
    {
      "cell_type": "markdown",
      "metadata": {},
      "source": [
        "##### VScode\n",
        "\n",
        "1. Coloque os arquivos CSV dentro da pasta \"data\" desse notebook\n",
        "\n",
        "No notebook, a célula seguinte à essa contém as leituras dos arquivos CSV com o caminho do drive do criador desse notebook.\n",
        "Comente as linhas que fazem referência aos arquivos locais e descomente as linhas que fazem referência ao Google Drive. Por exemplo:\n",
        "\n",
        "- descomente as linhas que começam com # from google.colab import drive;\n",
        "- comente as linhas que começam com tabela_Meta = pd.read_csv(\"./data/Cópia de BASE INTELI_META_OCUP-limpo.csv\").\n",
        "\n",
        "Certifique-se de que os arquivos CSV estejam localizados no diretório correto em seu ambiente virtual. Por exemplo, se você tiver uma pasta chamada \"data\" no mesmo diretório do notebook, coloque os arquivos CSV nessa pasta e ajuste seus nomes. Possivelmente os arquivos vão seguir o seguinte padrão, mesmo no seu drive:\n",
        "\n",
        "tabela_Meta = pd.read_csv(\"./data/Cópia de BASE INTELI_META_OCUP-limpo.csv\")\n",
        "\n",
        "Salve as alterações no notebook.\n",
        "Agora você pode executar as células do notebook no VScode e as alterações nos arquivos e caminhos serão aplicadas ao seu ambiente do colab. Lembre-se de que você precisará ter as bibliotecas necessárias instaladas em seu ambiente local para executar o código corretamente:\n",
        "\n",
        "Para fazer a instalação, basta abrir o terminal integrado e inserir o seguinte:"
      ]
    },
    {
      "cell_type": "code",
      "execution_count": null,
      "metadata": {},
      "outputs": [],
      "source": [
        "#pip install pandas numpy"
      ]
    },
    {
      "cell_type": "markdown",
      "metadata": {
        "id": "54rayyWtDJCR"
      },
      "source": [
        "Importando as bibliotecas necessárias para a limpeza"
      ]
    },
    {
      "cell_type": "code",
      "execution_count": 22,
      "metadata": {
        "id": "HPdhVI_I-CTO"
      },
      "outputs": [],
      "source": [
        "import pandas as pd\n",
        "import numpy as np"
      ]
    },
    {
      "cell_type": "markdown",
      "metadata": {
        "id": "sZv2nxttDQm3"
      },
      "source": [
        "Importando a tabela do banco de dados no notebook"
      ]
    },
    {
      "cell_type": "code",
      "execution_count": 23,
      "metadata": {
        "id": "mJs6EcySDOsP"
      },
      "outputs": [],
      "source": [
        "# use o bloco abaixo caso utilize o colab e os arquivos no seu google drive, para os quais você deverá procurar o arquivo e escrever o devido caminho.\n",
        "#tabela_2 = '/content/drive/MyDrive/BASE INTELI_META_OCUP.xlsx'\n",
        "\n",
        "# use o bloco abaixo caso o utilize o VScode para rodar o código, considerando que o arquivo está na pasta \"data\"\n",
        "tabela_2 = '../data/BASE INTELI_META_OCUP.xlsx'"
      ]
    },
    {
      "cell_type": "markdown",
      "metadata": {},
      "source": [
        "Carregando os arquivos:"
      ]
    },
    {
      "cell_type": "code",
      "execution_count": null,
      "metadata": {},
      "outputs": [],
      "source": [
        "# Carrega a primeira aba do arquivo Excel em um DataFrame.\n",
        "df = pd.read_excel(tabela_2)\n",
        "\n",
        "# Carrega todas as abas do Excel em um dicionário de DataFrames.\n",
        "abas = pd.read_excel(tabela_2, sheet_name=None)\n",
        "\n",
        "# Extrai as abas 'META' e 'OCUPAÇÃO' como DataFrames individuais.\n",
        "meta = abas['META']\n",
        "ocupacao = abas['OCUPAÇÃO ']"
      ]
    },
    {
      "cell_type": "markdown",
      "metadata": {
        "id": "PxMkWlSEDRmq"
      },
      "source": [
        "### Análise da aba METAS:"
      ]
    },
    {
      "cell_type": "markdown",
      "metadata": {
        "id": "8AhkJsMcEE8m"
      },
      "source": [
        "Vamos começar fazendo a estatística descritiva básica das colunas, separando elas em númericas e categóricas, com o seguinte comando:"
      ]
    },
    {
      "cell_type": "code",
      "execution_count": null,
      "metadata": {
        "id": "1kARlEgHEI2M"
      },
      "outputs": [],
      "source": [
        "# Seleciona as colunas categóricas (do tipo 'object') no DataFrame 'meta'\n",
        "colunas_categoricas = meta.select_dtypes(include='object').columns\n",
        "\n",
        "# Seleciona as colunas numéricas removendo as categóricas do DataFrame 'meta'\n",
        "colunas_numericas = meta.drop(colunas_categoricas, axis=1).columns\n",
        "\n",
        "# Exibe a quantidade e os nomes das colunas categóricas\n",
        "print(f'Há {len(colunas_categoricas)} Colunas Categóricas: {list(colunas_categoricas)}')\n",
        "\n",
        "# Exibe a quantidade e os nomes das colunas numéricas\n",
        "print(f'Há {len(colunas_numericas)} Colunas Numéricas: {list(colunas_numericas)}')"
      ]
    },
    {
      "cell_type": "markdown",
      "metadata": {},
      "source": [
        "Como resultado do comando, obtemos:\n",
        "\n",
        "- Colunas categóricas - \n",
        "    - [Mês]: Indica o mês referente a cada meta.\n",
        "    - [Uen]: Indica a Unidade de Negócios (DIGITAL, RÁDIOS ou TELEVISÃO) a qual pertencem o veículos.\n",
        "    - [Mês/ano]: Mês/ano nos quais a operação comercial foi efetuada.\n",
        "\n",
        "- Colunas numéricas -\n",
        "    - [Ano]: Indica o ano referente a cada meta.\n",
        "    - [Meta]: Meta estipulada por UEN e mês\n",
        "    - [% Ating. Meta]: É a relação da Receita realiada e a meta estipulada."
      ]
    },
    {
      "cell_type": "markdown",
      "metadata": {
        "id": "H1H7NoBtFsDE"
      },
      "source": [
        "Após isso, vamos inciar a limpeza dos dados primeiramente procurando dados que estão null, com os seguinte comando abaixo:"
      ]
    },
    {
      "cell_type": "code",
      "execution_count": null,
      "metadata": {
        "id": "EbXApNeTFuLg"
      },
      "outputs": [],
      "source": [
        "# Exibe a contagem de valores nulos em cada coluna do DataFrame 'meta'\n",
        "meta.isnull().sum()"
      ]
    },
    {
      "cell_type": "markdown",
      "metadata": {
        "id": "R_EwaUrIEWz2"
      },
      "source": [
        "Como os resultados voltaram afirmando a inexistência de dados nulos na base, continuamos com o processo de padronização.\n",
        "\n",
        "Então para seguir o processo de limpeza vamos padronizar algumas coisas nas colunas, primeiramente vamos deixar todos as palavras em maiúsculas"
      ]
    },
    {
      "cell_type": "code",
      "execution_count": 26,
      "metadata": {
        "id": "R8JHAxA5CC1h"
      },
      "outputs": [],
      "source": [
        "# Converte os valores da coluna 'Mês' para string e os transforma em letras maiúsculas\n",
        "meta['Mês'] = meta['Mês'].astype(str).str.upper()\n",
        "\n",
        "# Converte os valores da coluna 'Uen' para string e os transforma em letras maiúsculas\n",
        "meta['Uen'] = meta['Uen'].astype(str).str.upper()"
      ]
    },
    {
      "cell_type": "markdown",
      "metadata": {
        "id": "cDTX19-1Eaih"
      },
      "source": [
        "E também vamos deixar as colunas numéricas com 3 algarismos significativos após a vírgula, exceto as colunas de data"
      ]
    },
    {
      "cell_type": "code",
      "execution_count": 27,
      "metadata": {
        "id": "ZlUG3JQYEI-x"
      },
      "outputs": [],
      "source": [
        "# Arredonda os valores da coluna 'Meta' para 3 casas decimais\n",
        "meta['Meta'] = meta['Meta'].round(3)\n",
        "\n",
        "# Arredonda os valores da coluna '% Ating. Meta' para 3 casas decimais\n",
        "meta['% Ating. Meta'] = meta['% Ating. Meta'].round(3)"
      ]
    },
    {
      "cell_type": "markdown",
      "metadata": {
        "id": "uIepnyPgFNZV"
      },
      "source": [
        "Transferiremos os dados da coluna 'Mês/ano' para duas colunas independentes de 'Mês' e 'Ano' para otimizar o processo de pesquisas"
      ]
    },
    {
      "cell_type": "code",
      "execution_count": 28,
      "metadata": {
        "id": "lrtSwJ86Eg7_"
      },
      "outputs": [],
      "source": [
        "# Converte a coluna 'Mês/ano' para o formato de data e extrai o ano, armazenando-o na coluna 'Ano'\n",
        "meta['Ano'] = pd.to_datetime(meta['Mês/ano']).dt.year\n",
        "\n",
        "# Converte a coluna 'Mês/ano' para o formato de data e extrai o mês, armazenando-o na coluna 'Mês'\n",
        "meta['Mês'] = pd.to_datetime(meta['Mês/ano']).dt.month"
      ]
    },
    {
      "cell_type": "markdown",
      "metadata": {
        "id": "exlGn1srFdLs"
      },
      "source": [
        "E em seguida, vamos excluir a coluna 'Mês/ano'"
      ]
    },
    {
      "cell_type": "code",
      "execution_count": 29,
      "metadata": {
        "id": "PMsXuhTXGwQK"
      },
      "outputs": [],
      "source": [
        "# Remove a coluna 'Mês/ano' do DataFrame 'meta', pois as informações foram extraídas para as colunas 'Ano' e 'Mês'\n",
        "meta.drop(columns=['Mês/ano'], inplace=True)"
      ]
    },
    {
      "cell_type": "markdown",
      "metadata": {
        "id": "bkJ5D713G_8I"
      },
      "source": [
        "Por fim, vamos verificar se todas as alterações foram completadas com sucesso"
      ]
    },
    {
      "cell_type": "code",
      "execution_count": null,
      "metadata": {
        "id": "sFe1_r0VHG49"
      },
      "outputs": [],
      "source": [
        "# Exibe as primeiras linhas do DataFrame 'meta' para visualizar as alterações realizadas\n",
        "meta.head()"
      ]
    },
    {
      "cell_type": "markdown",
      "metadata": {
        "id": "Yw_xbF4UEjYe"
      },
      "source": [
        "Dessa forma, gero um novo arquivo excel com os dados limpos"
      ]
    },
    {
      "cell_type": "code",
      "execution_count": 31,
      "metadata": {
        "id": "YrHedZRQEkEr"
      },
      "outputs": [],
      "source": [
        "# Salva o DataFrame 'meta' em um arquivo CSV na pasta dados_tratados na pasta data, sem incluir o índice\n",
        "meta.to_csv('../data/dados_tratados/BASE INTELI_META-limpo.csv', index=False)\n",
        "\n",
        "# Se for usar drive descomente o código abaixo e comente o código acima\n",
        "# Salva o DataFrame 'meta' em um arquivo CSV no Google Drive, sem incluir o índice\n",
        "# meta.to_csv('/content/drive/MyDrive/BASE INTELI_META-limpo.csv', index=False)"
      ]
    },
    {
      "cell_type": "markdown",
      "metadata": {
        "id": "toaZ8xS4EA35"
      },
      "source": [
        "### Análise da aba OCUPAÇÃO:"
      ]
    },
    {
      "cell_type": "markdown",
      "metadata": {
        "id": "fmJjBM8UEHXP"
      },
      "source": [
        "Vamos começar fazendo a estatística descritiva básica das colunas, separando elas em númericas e categóricas, com o seguinte comando:"
      ]
    },
    {
      "cell_type": "code",
      "execution_count": null,
      "metadata": {
        "id": "EHEbVcswEKIY"
      },
      "outputs": [],
      "source": [
        "# Seleciona as colunas categóricas (do tipo 'object') no DataFrame 'ocupacao'\n",
        "colunas_categoricas = ocupacao.select_dtypes(include='object').columns\n",
        "\n",
        "# Seleciona as colunas numéricas removendo as categóricas do DataFrame 'ocupacao'\n",
        "colunas_numericas = ocupacao.drop(colunas_categoricas, axis=1).columns\n",
        "\n",
        "# Exibe a quantidade e os nomes das colunas categóricas\n",
        "print(f'Há {len(colunas_categoricas)} Colunas Categóricas: {list(colunas_categoricas)}')\n",
        "\n",
        "# Exibe a quantidade e os nomes das colunas numéricas\n",
        "print(f'Há {len(colunas_numericas)} Colunas Numéricas: {list(colunas_numericas)}')"
      ]
    },
    {
      "cell_type": "markdown",
      "metadata": {},
      "source": [
        "Como resultado do comando, obtemos:\n",
        "\n",
        "- Colunas categóricas - \n",
        "    - [Veículo]: Veículo/emissora anunciado. Cada veículo faz parte de uma única UEN.\n",
        "    - [Mês/ano]: Mês/ano nos quais a operação comercial foi efetuada.\n",
        "\n",
        "- Colunas numéricas -\n",
        "    - [Mês]: Indica o mês referente a cada meta.\n",
        "    - [Ano]: Indica o ano referente a cada meta.\n",
        "    - [Ocupação]: É o quanto (em percentual) o inventário de cada veículo foi ocupado (mês a mês)."
      ]
    },
    {
      "cell_type": "markdown",
      "metadata": {
        "id": "AAjfV_tfEWJj"
      },
      "source": [
        "Após isso, vamos inciar a limpeza dos dados primeiramente procurando dados que estão null, com os seguinte comando abaixo:"
      ]
    },
    {
      "cell_type": "code",
      "execution_count": null,
      "metadata": {
        "id": "0Gn9vspTEbed"
      },
      "outputs": [],
      "source": [
        "# Exibe a contagem de valores nulos em cada coluna do DataFrame 'ocupacao'\n",
        "ocupacao.isnull().sum()"
      ]
    },
    {
      "cell_type": "markdown",
      "metadata": {
        "id": "pwjYG-cmEgK5"
      },
      "source": [
        "Como os resultados voltaram afirmando a inexistência de dados nulos na base, continuamos com o processo de padronização.\n",
        "\n",
        "Então para seguir o processo de limpeza vamos padronizar algumas coisas nas colunas, primeiramente vamos deixar todos as palavras em maiúsculas"
      ]
    },
    {
      "cell_type": "code",
      "execution_count": 34,
      "metadata": {
        "id": "EpRZLEpQEjwh"
      },
      "outputs": [],
      "source": [
        "\n",
        "# Converte os valores da coluna 'Veículo' para string e os transforma em letras maiúsculas\n",
        "ocupacao['Veículo'] = ocupacao['Veículo'].astype(str).str.upper()"
      ]
    },
    {
      "cell_type": "markdown",
      "metadata": {
        "id": "kHqj_9KmFOep"
      },
      "source": [
        "Transferiremos os dados da coluna 'Mês/ano' para duas colunas independentes de 'Mês' e 'Ano' para otimizar o processo de pesquisas\n",
        "\n"
      ]
    },
    {
      "cell_type": "code",
      "execution_count": 35,
      "metadata": {
        "id": "_-hpvjhyFTX8"
      },
      "outputs": [],
      "source": [
        "# Converte a coluna 'Mês/ano' para o formato de data e extrai o ano, armazenando-o na coluna 'Ano'\n",
        "ocupacao['Ano'] = pd.to_datetime(ocupacao['Mês/ano']).dt.year\n",
        "\n",
        "# Converte a coluna 'Mês/ano' para o formato de data e extrai o mês, armazenando-o na coluna 'Mês'\n",
        "ocupacao['Mês'] = pd.to_datetime(ocupacao['Mês/ano']).dt.month"
      ]
    },
    {
      "cell_type": "markdown",
      "metadata": {
        "id": "KjIV62AAFa08"
      },
      "source": [
        "E em seguida, vamos excluir a coluna 'Mês/ano' e a coluna 'Mes' para evitar repetições"
      ]
    },
    {
      "cell_type": "code",
      "execution_count": 36,
      "metadata": {
        "id": "Bz24X5KnFdfk"
      },
      "outputs": [],
      "source": [
        "# Remove a coluna 'Mês/ano' do DataFrame 'ocupacao' após extrair as informações de ano e mês\n",
        "ocupacao.drop(columns=['Mês/ano'], inplace=True)\n",
        "\n",
        "# Remove a coluna 'Mes' do DataFrame 'ocupacao'\n",
        "ocupacao.drop(columns=['Mes'], inplace=True)"
      ]
    },
    {
      "cell_type": "markdown",
      "metadata": {
        "id": "AIGgylk5GWsc"
      },
      "source": [
        "Para padronizar a formatação das colunas em 'Ano' e 'Mês' seguidos, vamos reposicionar a coluna 'Mês' para a segunda posição"
      ]
    },
    {
      "cell_type": "code",
      "execution_count": 37,
      "metadata": {
        "id": "HEorRu2OGoyx"
      },
      "outputs": [],
      "source": [
        "# Remove a coluna 'Mês' do DataFrame 'ocupacao' e armazena em 'coluna_mês'\n",
        "coluna_mês = ocupacao.pop('Mês')\n",
        "\n",
        "# Insere a coluna 'Mês' na segunda posição do DataFrame 'ocupacao'\n",
        "ocupacao.insert(1, 'Mês', coluna_mês)"
      ]
    },
    {
      "cell_type": "markdown",
      "metadata": {
        "id": "-UaHYISaFiJ-"
      },
      "source": [
        "Por fim, vamos verificar se todas as alterações foram completadas com sucesso"
      ]
    },
    {
      "cell_type": "code",
      "execution_count": null,
      "metadata": {
        "id": "SFGSEk-YFkuK"
      },
      "outputs": [],
      "source": [
        "# Exibe as primeiras linhas do DataFrame 'ocupacao' para visualizar as alterações realizadas\n",
        "ocupacao.head()"
      ]
    },
    {
      "cell_type": "markdown",
      "metadata": {
        "id": "QWa5TpzLInYO"
      },
      "source": [
        "Dessa forma, gero um novo arquivo excel com os dados limpos"
      ]
    },
    {
      "cell_type": "code",
      "execution_count": 39,
      "metadata": {},
      "outputs": [],
      "source": [
        "# Salva o DataFrame 'ocupacao' em um arquivo CSV na pasta dados_tratados na pasta data, sem incluir o índice\n",
        "ocupacao.to_csv('../data/dados_tratados/BASE INTELI_OCUP-limpo.csv', index=False)\n",
        "\n",
        "# Se for usar drive descomente o código abaixo e comente o código acima\n",
        "# Salva o DataFrame 'ocupacao' em um arquivo CSV no Google Drive, sem incluir o índice\n",
        "# ocupacao.to_csv('/content/drive/MyDrive/BASE INTELI_OCUP-limpo.csv', index=False)"
      ]
    },
    {
      "cell_type": "code",
      "execution_count": null,
      "metadata": {},
      "outputs": [],
      "source": [
        "# Exibe a contagem de valores nulos em cada coluna do DataFrame 'ocupacao'\n",
        "ocupacao.isnull().sum()"
      ]
    }
  ],
  "metadata": {
    "colab": {
      "provenance": []
    },
    "kernelspec": {
      "display_name": "Python 3",
      "name": "python3"
    },
    "language_info": {
      "codemirror_mode": {
        "name": "ipython",
        "version": 3
      },
      "file_extension": ".py",
      "mimetype": "text/x-python",
      "name": "python",
      "nbconvert_exporter": "python",
      "pygments_lexer": "ipython3",
      "version": "3.12.4"
    }
  },
  "nbformat": 4,
  "nbformat_minor": 0
}
