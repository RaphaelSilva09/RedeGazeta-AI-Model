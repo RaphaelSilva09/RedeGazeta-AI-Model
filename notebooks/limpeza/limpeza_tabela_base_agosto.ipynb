{
 "cells": [
  {
   "cell_type": "markdown",
   "metadata": {},
   "source": [
    "# Limpeza da tabela\n",
    "## Dados - agosto\n"
   ]
  },
  {
   "cell_type": "markdown",
   "metadata": {},
   "source": [
    "### Instruções para uso local ou remoto (Google Colab ou VScode)\n",
    "\n",
    "Aqui deixaremos brevemente um passo a passo para que você usuário seja capaz de executar o código localmente ou remotamente pelo seu google drive, podendo escolher a forma mais viável para seu uso e conhecimento."
   ]
  },
  {
   "cell_type": "markdown",
   "metadata": {},
   "source": [
    "##### Google Colab\n",
    "\n",
    "1. Faça o upload do seu arquivo .ipynb para o Google Drive.\n",
    "2. Abra o Google Colab em seu navegador.\n",
    "3. Clique em \"Arquivo\" no menu superior e selecione \"Abrir notebook\".\n",
    "4. Na guia \"Upload\", clique em \"Procurar\" e selecione o arquivo .ipynb que você enviou para o Google Drive.\n",
    "5. Após selecionar o arquivo, clique em \"Abrir\".\n",
    "6. Aguarde o carregamento do notebook no Google Colab.\n",
    "7. Agora que você carregou o notebook no Google Colab, você pode fazer as alterações necessárias nos arquivos e caminhos para se adequar ao seu ambiente específico.\n",
    "\n",
    "No notebook, a célula seguinte à essa contém as leituras dos arquivos CSV com o caminho do drive do criador desse notebook.\n",
    "Comente as linhas que fazem referência aos arquivos locais e descomente as linhas que fazem referência ao Google Drive. Por exemplo:\n",
    "\n",
    "- descomente as linhas que começam com # from google.colab import drive;\n",
    "- comente as linhas que começam com tabela_Meta = pd.read_csv(\"./data/Cópia de BASE INTELI_META_OCUP-limpo.csv\").\n",
    "\n",
    "Certifique-se de que os arquivos CSV estejam localizados no diretório correto em seu ambiente virtual. Por exemplo, se você tiver uma pasta chamada \"data\" no mesmo diretório do notebook, coloque os arquivos CSV nessa pasta e ajuste seus nomes. Possivelmente os arquivos vão seguir o seguinte padrão, mesmo no seu drive:\n",
    "\n",
    "tabela_Meta = pd.read_csv(\"/content/drive/MyDrive/NomeDaPastaDosArquivos/arquivo.csv)\n",
    "\n",
    "Salve as alterações no notebook.\n",
    "Agora você pode executar as células do notebook no Google Colab e as alterações nos arquivos e caminhos serão aplicadas ao seu ambiente do colab. Lembre-se de que você não precisará ter as bibliotecas necessárias instaladas em seu ambiente local para executar o código corretamente, dado que ao executar pela ferramenta do google essas dependências estarão aplicadas por padrão"
   ]
  },
  {
   "cell_type": "markdown",
   "metadata": {},
   "source": [
    "##### VScode\n",
    "\n",
    "1. Coloque os arquivos CSV dentro da pasta \"data\" desse notebook\n",
    "\n",
    "No notebook, a célula seguinte à essa contém as leituras dos arquivos CSV com o caminho do drive do criador desse notebook.\n",
    "Comente as linhas que fazem referência aos arquivos locais e descomente as linhas que fazem referência ao Google Drive. Por exemplo:\n",
    "\n",
    "- descomente as linhas que começam com # from google.colab import drive;\n",
    "- comente as linhas que começam com tabela_Meta = pd.read_csv(\"./data/Cópia de BASE INTELI_META_OCUP-limpo.csv\").\n",
    "\n",
    "Certifique-se de que os arquivos CSV estejam localizados no diretório correto em seu ambiente virtual. Por exemplo, se você tiver uma pasta chamada \"data\" no mesmo diretório do notebook, coloque os arquivos CSV nessa pasta e ajuste seus nomes. Possivelmente os arquivos vão seguir o seguinte padrão, mesmo no seu drive:\n",
    "\n",
    "tabela_Meta = pd.read_csv(\"./data/Cópia de BASE INTELI_META_OCUP-limpo.csv\")\n",
    "\n",
    "Salve as alterações no notebook.\n",
    "Agora você pode executar as células do notebook no VScode e as alterações nos arquivos e caminhos serão aplicadas ao seu ambiente do colab. Lembre-se de que você precisará ter as bibliotecas necessárias instaladas em seu ambiente local para executar o código corretamente:\n",
    "\n",
    "Para fazer a instalação, basta abrir o terminal integrado e inserir o seguinte:"
   ]
  },
  {
   "cell_type": "code",
   "execution_count": null,
   "metadata": {},
   "outputs": [],
   "source": [
    "#pip install pandas numpy"
   ]
  },
  {
   "cell_type": "markdown",
   "metadata": {},
   "source": [
    "Importando as bibliotecas necessárias:"
   ]
  },
  {
   "cell_type": "code",
   "execution_count": 4,
   "metadata": {},
   "outputs": [],
   "source": [
    "import pandas as pd\n",
    "import numpy as np"
   ]
  },
  {
   "cell_type": "markdown",
   "metadata": {},
   "source": [
    "Definindo o Caminho do Arquivo Excel."
   ]
  },
  {
   "cell_type": "code",
   "execution_count": 5,
   "metadata": {},
   "outputs": [],
   "source": [
    "# use o bloco abaixo caso o utilize o VScode para rodar o código, considerando que o arquivo está no drive\n",
    "# caminho_arquivo = '/content/drive/MyDrive/BASE INTELI_META_OCUP.xlsx'\n",
    "\n",
    "# use o bloco abaixo caso o utilize o VScode para rodar o código, considerando que o arquivo está na pasta \"data\"\n",
    "caminho_arquivo = '../data/BaseDados_ProjetoINTELI_RG_01_AGOSTO_2024.xlsx'"
   ]
  },
  {
   "cell_type": "markdown",
   "metadata": {},
   "source": [
    "Carrega o arquivo Excel no DataFrame."
   ]
  },
  {
   "cell_type": "code",
   "execution_count": null,
   "metadata": {},
   "outputs": [],
   "source": [
    "# Carrega o arquivo Excel especificado em 'caminho_arquivo' em um DataFrame chamado 'df'\n",
    "df = pd.read_excel(caminho_arquivo)"
   ]
  },
  {
   "cell_type": "markdown",
   "metadata": {},
   "source": [
    "Identificação das linhas que possuem valores nulos e caso existam, elas são excluidas."
   ]
  },
  {
   "cell_type": "code",
   "execution_count": 7,
   "metadata": {},
   "outputs": [],
   "source": [
    "# Seleciona todas as linhas do DataFrame 'df' que contêm pelo menos um valor nulo\n",
    "linhas_com_nulos = df[df.isnull().any(axis=1)]\n",
    "\n",
    "# Remove todas as linhas do DataFrame 'df' que contêm valores nulos, resultando em 'df_sem_nulos'\n",
    "df_sem_nulos = df.dropna()\n",
    "df_sem_nulos = df_sem_nulos['Taxa Ac. TRI % PIB'].dropna()\n"
   ]
  },
  {
   "cell_type": "markdown",
   "metadata": {},
   "source": [
    "Identificação das colunas categóricas e numéricas."
   ]
  },
  {
   "cell_type": "code",
   "execution_count": 8,
   "metadata": {},
   "outputs": [],
   "source": [
    "# Seleciona as colunas categóricas (do tipo 'object') no DataFrame 'df'\n",
    "colunas_categoricas = df.select_dtypes(include='object').columns\n",
    "\n",
    "# Seleciona as colunas numéricas removendo as categóricas do DataFrame 'df'\n",
    "colunas_numericas = df.drop(colunas_categoricas, axis=1).columns"
   ]
  },
  {
   "cell_type": "markdown",
   "metadata": {},
   "source": [
    "Abaixo estão listadas as colunas categóricas e numéricas.\n"
   ]
  },
  {
   "cell_type": "markdown",
   "metadata": {},
   "source": [
    "### Colunas Categóricas\n",
    "As colunas categóricas representam variáveis qualitativas que incluem informações textuais ou que podem ser usadas para classificar os dados. As colunas categóricas no DataFrame são:\n",
    "\n",
    "- **UEN**: Unidade Estratégica de Negócio.\n",
    "- **Veículo**: Nome do veículo de mídia ou canal de distribuição.\n",
    "- **Cliente**: Nome do cliente associado à transação.\n",
    "- **Origem**: Origem da venda ou transação.\n",
    "- **Segmento**: Segmento de mercado ao qual o cliente pertence.\n",
    "- **Setor**: Setor de mercado relacionado à transação.\n",
    "- **Taxa Ac. TRI % PIB**: Taxa acumulada do trimestre como percentual do PIB.\n",
    "- **CONCATENAR**: Informação concatenada que pode ser composta por outras colunas ou dados.\n",
    "\n",
    "### Colunas Numéricas\n",
    "As colunas numéricas contêm dados quantitativos que são utilizados para cálculos e análises estatísticas. As colunas numéricas no DataFrame são:\n",
    "\n",
    "- **Ano**: Ano da transação ou registro.\n",
    "- **Mês**: Mês da transação ou registro.\n",
    "- **Mês/ano**: Combinação do mês e ano da transação ou registro.\n",
    "- **VL Tabela**: Valor de tabela antes de descontos ou ajustes.\n",
    "- **Desconto R$**: Valor absoluto de desconto aplicado em reais.\n",
    "- **Desc %**: Percentual de desconto aplicado.\n",
    "- **Vl Bruto**: Valor bruto antes de quaisquer deduções ou acréscimos.\n",
    "- **Vl Liquido Final**: Valor líquido final após descontos e ajustes.\n",
    "- **IPCA ES**: Índice de Preços ao Consumidor Amplo para o Estado.\n",
    "- **IPCA BR**: Índice de Preços ao Consumidor Amplo para o Brasil.\n",
    "- **% Ating. Meta**: Percentual de atingimento da meta.\n"
   ]
  },
  {
   "cell_type": "markdown",
   "metadata": {},
   "source": [
    "Remove a coluna 'Mês/ano' do DataFrame."
   ]
  },
  {
   "cell_type": "code",
   "execution_count": 9,
   "metadata": {},
   "outputs": [],
   "source": [
    "# Remove a coluna 'Mês/ano' do DataFrame 'df'\n",
    "df_sem_nulos = df.drop(columns=['Mês/ano'])"
   ]
  },
  {
   "cell_type": "markdown",
   "metadata": {},
   "source": [
    "Arredonda os valores na coluna '% Ating. Meta' para 3 casas decimais."
   ]
  },
  {
   "cell_type": "code",
   "execution_count": 10,
   "metadata": {},
   "outputs": [],
   "source": [
    "# Arredonda os valores da coluna '% Ating. Meta' para 3 casas decimais\n",
    "df_sem_nulos['% Ating. Meta'] = df['% Ating. Meta'].round(3)\n",
    "\n",
    "# Arredonda os valores da coluna 'Desc %' para 3 casas decimais\n",
    "df_sem_nulos['Desc %'] = df['Desc %'].round(3)"
   ]
  },
  {
   "cell_type": "markdown",
   "metadata": {},
   "source": [
    "Converte todos os valores na coluna 'Nome_da_Coluna' para letras maiúsculas."
   ]
  },
  {
   "cell_type": "code",
   "execution_count": 11,
   "metadata": {},
   "outputs": [],
   "source": [
    "# Converte os valores da coluna 'UEN' para letras maiúsculas\n",
    "df_sem_nulos['UEN'] = df['UEN'].str.upper()"
   ]
  },
  {
   "cell_type": "markdown",
   "metadata": {},
   "source": [
    "Filtra o DataFrame para mostrar apenas as linhas que contêm valores nulos."
   ]
  },
  {
   "cell_type": "code",
   "execution_count": 12,
   "metadata": {},
   "outputs": [],
   "source": [
    "# Seleciona todas as linhas do DataFrame 'df' que contêm pelo menos um valor nulo\n",
    "linhas_com_nulos = df[df.isnull().any(axis=1)]"
   ]
  },
  {
   "cell_type": "markdown",
   "metadata": {},
   "source": [
    "Dessa forma, gero um novo arquivo excel com os dados limpos"
   ]
  },
  {
   "cell_type": "code",
   "execution_count": 13,
   "metadata": {},
   "outputs": [],
   "source": [
    "# Salva o DataFrame em um arquivo CSV na pasta dados_tratados na pasta data\n",
    "df_sem_nulos.to_csv('../data/dados_tratados/tratada_BaseDados_ProjetoINTELI_RG_01_AGOSTO_2024.csv', index=False)\n",
    "\n",
    "# Se for usar drive descomente o código abaixo e comente o código acima\n",
    "# Salva o DataFrame em um arquivo CSV no Google Drive\n",
    "# df.to_csv('/content/drive/MyDrive/tratada_BaseDados_ProjetoINTELI_RG_01_AGOSTO_2024.csv', index=False)"
   ]
  }
 ],
 "metadata": {
  "kernelspec": {
   "display_name": "Python 3",
   "language": "python",
   "name": "python3"
  },
  "language_info": {
   "codemirror_mode": {
    "name": "ipython",
    "version": 3
   },
   "file_extension": ".py",
   "mimetype": "text/x-python",
   "name": "python",
   "nbconvert_exporter": "python",
   "pygments_lexer": "ipython3",
   "version": "3.12.4"
  }
 },
 "nbformat": 4,
 "nbformat_minor": 2
}
